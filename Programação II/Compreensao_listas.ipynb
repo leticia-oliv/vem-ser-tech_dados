{
 "cells": [
  {
   "cell_type": "markdown",
   "metadata": {},
   "source": [
    "# Compreensão de listas\n",
    "\n",
    "A compreensão de listas em Python é uma maneira mais fácil e clara de criar listas. Ela permite que você faça uma lista nova transformando ou escolhendo elementos de outra lista, tudo em uma linha de código curta. É mais simples e mais fácil de ler do que usar loops tradicionais."
   ]
  },
  {
   "cell_type": "code",
   "execution_count": null,
   "metadata": {},
   "outputs": [],
   "source": [
    "[expressao for item in lista if condicao]"
   ]
  },
  {
   "cell_type": "markdown",
   "metadata": {},
   "source": [
    "Isso cria uma nova lista onde cada elemento é o resultado da expressão aplicada a cada item da lista original que atende à condição especificada.\n",
    "\n",
    "Por exemplo, vamos supor que temos uma lista de números e queremos criar uma nova lista com o quadrado de cada número na lista original:"
   ]
  },
  {
   "cell_type": "code",
   "execution_count": 1,
   "metadata": {},
   "outputs": [
    {
     "name": "stdout",
     "output_type": "stream",
     "text": [
      "[1, 4, 9, 16, 25]\n"
     ]
    }
   ],
   "source": [
    "numeros = [1, 2, 3, 4, 5]\n",
    "quadrados = [numero ** 2 for numero in numeros]\n",
    "print(quadrados)  # Saída: [1, 4, 9, 16, 25]"
   ]
  },
  {
   "cell_type": "code",
   "execution_count": 2,
   "metadata": {},
   "outputs": [
    {
     "name": "stdout",
     "output_type": "stream",
     "text": [
      "[4, 16]\n"
     ]
    }
   ],
   "source": [
    "# filtrar elementos da lista original\n",
    "numeros = [1, 2, 3, 4, 5]\n",
    "quadrados_pares = [numero ** 2 for numero in numeros if numero % 2 == 0]\n",
    "print(quadrados_pares)"
   ]
  },
  {
   "cell_type": "code",
   "execution_count": null,
   "metadata": {},
   "outputs": [],
   "source": [
    "lista = [expressao for item in colecao]\n",
    "\n",
    "# equivale a:\n",
    "\n",
    "for item in colecao:\n",
    "    lista.append(expressao)"
   ]
  },
  {
   "cell_type": "code",
   "execution_count": null,
   "metadata": {},
   "outputs": [],
   "source": [
    "[expressao for item in colecao if condicao]\n",
    "\n",
    "# equivale a:\n",
    "\n",
    "for item in colecao:\n",
    "    if condicao:\n",
    "        lista.append(expressao)"
   ]
  },
  {
   "cell_type": "code",
   "execution_count": null,
   "metadata": {},
   "outputs": [],
   "source": [
    "[expressao if condicao else expressaoAlternativa for item in colecao]\n",
    "\n",
    "# equivale a:\n",
    "\n",
    "for item in coelcao:\n",
    "    if condicao:\n",
    "        lista.append(expressao)\n",
    "    else:\n",
    "        lista.append(expressaoAlternativa)"
   ]
  },
  {
   "cell_type": "markdown",
   "metadata": {},
   "source": [
    "### Aninhando compreensões\n",
    "\n",
    "É possível aninhar compreensões de lista. Ao colocarmos mais de um `for` consecutivo, o primeiro for será considerado o mais externo, e o seguinte, mais interno. O exemplo abaixo mostra todas as combinações possíveis entre alguns nomes e sobrenomes:"
   ]
  },
  {
   "cell_type": "code",
   "execution_count": 3,
   "metadata": {},
   "outputs": [
    {
     "name": "stdout",
     "output_type": "stream",
     "text": [
      "['Letícia Oliveira', 'Letícia Silva', 'João Oliveira', 'João Silva', 'Gabriel Oliveira', 'Gabriel Silva', 'Daniel Oliveira', 'Daniel Silva']\n"
     ]
    }
   ],
   "source": [
    "nomes = ['Letícia', 'João', 'Gabriel', 'Daniel']\n",
    "sobrenomes = ['Oliveira', 'Silva']\n",
    "\n",
    "combinacoes = [nome + ' ' + sobrenome for nome in nomes for sobrenome in sobrenomes]\n",
    "print(combinacoes)"
   ]
  },
  {
   "cell_type": "code",
   "execution_count": null,
   "metadata": {},
   "outputs": [],
   "source": [
    "# a linha combinacoes = [nome + ' ' + sobrenome for nome in nomes for sobrenome in sobrenomes] equivale a:\n",
    "\n",
    "combinacoes = []\n",
    "\n",
    "for nome in nomes:\n",
    "    for sobrenome in sobrenomes:\n",
    "        combinacoes.append(nome + ' ' + sobrenome)\n",
    "        \n",
    "print(combinacoes)"
   ]
  },
  {
   "cell_type": "markdown",
   "metadata": {},
   "source": [
    "Inclusive podemos utilizar essa forma para trabalhar com matrizes. O exemplo abaixo lê pelo teclado a quantidade de vitórias, empates e derrotas para cada time em um grupo:"
   ]
  },
  {
   "cell_type": "code",
   "execution_count": 4,
   "metadata": {},
   "outputs": [
    {
     "name": "stdout",
     "output_type": "stream",
     "text": [
      "[[5, 2, 0], [1, 3, 4], [0, 2, 6], [0, 2, 2]]\n"
     ]
    }
   ],
   "source": [
    "times = ['Flamengo', 'Botafogo', 'Fluminense', 'Vasco']\n",
    "entradas = ['V', 'E', 'D'] #vitória, empate, derrota\n",
    "\n",
    "tabela = [[int(input(f'Digite a quantidade de {tipo} do time {time}: ')) for tipo in entradas] for time in times]\n",
    "\n",
    "print(tabela)"
   ]
  },
  {
   "cell_type": "markdown",
   "metadata": {},
   "source": [
    "# Compreensão de Dicionários\n",
    "\n",
    "Da mesma forma que utilizamos compreensão para listas, podemos utilizá-la para dicionários. A diferença é que precisamos, obrigatoriamente, passar um par chave-valor. O exemplo abaixo parte de uma lista de notas e uma lista de alunos e chega em um dicionário associando cada aluno a uma nota."
   ]
  },
  {
   "cell_type": "code",
   "execution_count": 3,
   "metadata": {},
   "outputs": [
    {
     "name": "stdout",
     "output_type": "stream",
     "text": [
      "{'Letícia': 10.0, 'João': 7.0, 'Gabriel': 9.0, 'Ana': 5.5, 'Paula': 7.5}\n",
      "{'Letícia': 10.0, 'João': 7.0, 'Gabriel': 9.0, 'Ana': 5.5, 'Paula': 7.5}\n"
     ]
    }
   ],
   "source": [
    "alunos = ['Letícia', 'João', 'Gabriel', 'Ana', 'Paula']\n",
    "notas = [10.0, 7.0, 9.0, 5.5, 7.5]\n",
    "\n",
    "cadastro = {alunos[i]: notas[i] for i in range(len(alunos))}\n",
    "print(cadastro)\n",
    "\n",
    "cadastro = {i: notas[idx] for idx, i in enumerate(alunos)}\n",
    "print(cadastro)"
   ]
  },
  {
   "cell_type": "code",
   "execution_count": 4,
   "metadata": {},
   "outputs": [
    {
     "name": "stdout",
     "output_type": "stream",
     "text": [
      "0\n",
      "Letícia\n",
      "\n",
      "1\n",
      "João\n",
      "\n",
      "2\n",
      "Gabriel\n",
      "\n",
      "3\n",
      "Ana\n",
      "\n",
      "4\n",
      "Paula\n",
      "\n"
     ]
    }
   ],
   "source": [
    "for idx, i in enumerate(alunos):\n",
    "    print(idx)\n",
    "    print(i, end='\\n\\n')"
   ]
  },
  {
   "cell_type": "markdown",
   "metadata": {},
   "source": [
    "Não gostamos de percorrer listas por índices dessa maneira. Uma estratégia melhor é utilizar o *zip*, estudado em capítulos anteriores:"
   ]
  },
  {
   "cell_type": "code",
   "execution_count": 1,
   "metadata": {},
   "outputs": [
    {
     "name": "stdout",
     "output_type": "stream",
     "text": [
      "{'Letícia': 10.0, 'João': 7.0, 'Gabriel': 9.0, 'Ana': 5.5, 'Paula': 7.5}\n",
      "{'Letícia': 10.0, 'João': 7.0, 'Gabriel': 9.0, 'Ana': 5.5, 'Paula': 7.5}\n"
     ]
    }
   ],
   "source": [
    "alunos = ['Letícia', 'João', 'Gabriel', 'Ana', 'Paula']\n",
    "notas = [10.0, 7.0, 9.0, 5.5, 7.5]\n",
    "\n",
    "cadastro = {aluno:nota for aluno, nota in zip(alunos, notas)}\n",
    "print(cadastro)\n",
    "\n",
    "cadastro = {packing[0]:packing[1] for packing in zip(alunos, notas)}\n",
    "print(cadastro)"
   ]
  },
  {
   "cell_type": "code",
   "execution_count": 2,
   "metadata": {},
   "outputs": [
    {
     "name": "stdout",
     "output_type": "stream",
     "text": [
      "[1, 4, 9, 16, 25, 36, 49, 64, 81, 100]\n"
     ]
    },
    {
     "data": {
      "text/plain": [
       "<map at 0x7f6eeeec3c70>"
      ]
     },
     "execution_count": 2,
     "metadata": {},
     "output_type": "execute_result"
    }
   ],
   "source": [
    "f = lambda x: x**2\n",
    "lista = [f(x) for x in range(1, 11)]\n",
    "print(lista)\n",
    "\n",
    "listaValores = list(range(1, 11))\n",
    "map(f, listaValores)"
   ]
  },
  {
   "cell_type": "markdown",
   "metadata": {},
   "source": [
    "1. Coloque em uma lista todos os números entre 1 e 1000 que sejam divisiveis por N, sendo N um número recebido no *standard input*;\n",
    "\n",
    "2. Coloque em uma lista todos os números entre 1 e 1000 que possuam um dígito N em sua composição, sendo N um número recebido no *standard input*;\n",
    "\n",
    "3. Conte o número de espaços em branco em uma *string* recebida pelo *standard input*;\n",
    "\n",
    "4. Crie uma lista com todas as consoantes em uma frase (de pelo menos 10 palavras) recebidas pelo *standard input*;\n",
    "\n",
    "5. Pegue o índice e o valor, na forma de tupla, para os itens na lista: ['oi', 4, 8.99, 'mamao', ('t,b', 'n')]. O resultado seria semelhante a (indice, valor), (indice, valor);"
   ]
  },
  {
   "cell_type": "code",
   "execution_count": 2,
   "metadata": {},
   "outputs": [
    {
     "name": "stdout",
     "output_type": "stream",
     "text": [
      "[15, 30, 45, 60, 75, 90, 105, 120, 135, 150, 165, 180, 195, 210, 225, 240, 255, 270, 285, 300, 315, 330, 345, 360, 375, 390, 405, 420, 435, 450, 465, 480, 495, 510, 525, 540, 555, 570, 585, 600, 615, 630, 645, 660, 675, 690, 705, 720, 735, 750, 765, 780, 795, 810, 825, 840, 855, 870, 885, 900, 915, 930, 945, 960, 975, 990]\n"
     ]
    }
   ],
   "source": [
    "# Exercício 1\n",
    "\n",
    "N = int(input('Insira um número inteiro: '))\n",
    "\n",
    "divisiveis = [n for n in range(1, 1001) if n % N == 0]\n",
    "print(divisiveis)"
   ]
  },
  {
   "cell_type": "code",
   "execution_count": null,
   "metadata": {},
   "outputs": [],
   "source": [
    "# Exercício 2\n",
    "\n",
    "N = input('Insira um número inteiro: ')\n",
    "\n",
    "acheN = [n for n in range(1, 1001) if N in str(n)]\n",
    "print(acheN)"
   ]
  },
  {
   "cell_type": "code",
   "execution_count": 3,
   "metadata": {},
   "outputs": [
    {
     "name": "stdout",
     "output_type": "stream",
     "text": [
      "testando agora\n",
      "1\n"
     ]
    }
   ],
   "source": [
    "# Exercício 3\n",
    "\n",
    "algumaString = input('Insira uma frase: ')\n",
    "espaco = [s for s in algumaString if s == ' ']\n",
    "print(algumaString)\n",
    "print(len(espaco))"
   ]
  },
  {
   "cell_type": "code",
   "execution_count": 6,
   "metadata": {},
   "outputs": [
    {
     "name": "stdout",
     "output_type": "stream",
     "text": [
      "['f', 'r', 's', 'd', 't', 's', 't']\n"
     ]
    }
   ],
   "source": [
    "# Exercício 4\n",
    "\n",
    "frase = input('Escreva uma frase de pelo menos 10 palavras: ')\n",
    "resultado = [letra for letra in frase if letra not in 'a,e,i,o,u,\" \",?,.,!,A,E,I,O,U,Á,É,Í,Ó,Ú']\n",
    "print(resultado)"
   ]
  },
  {
   "cell_type": "code",
   "execution_count": 8,
   "metadata": {},
   "outputs": [
    {
     "name": "stdout",
     "output_type": "stream",
     "text": [
      "[(0, 'oi'), (1, 4), (2, 8.99), (3, 'mamao'), (4, ('t,b', 'n'))]\n"
     ]
    }
   ],
   "source": [
    "# Exercício 5\n",
    "\n",
    "itens = ['oi', 4, 8.99, 'mamao', ('t,b','n')]\n",
    "resultado = [(indice, item) for indice, item in enumerate(itens)]\n",
    "print(resultado)"
   ]
  }
 ],
 "metadata": {
  "kernelspec": {
   "display_name": "Python 3",
   "language": "python",
   "name": "python3"
  },
  "language_info": {
   "codemirror_mode": {
    "name": "ipython",
    "version": 3
   },
   "file_extension": ".py",
   "mimetype": "text/x-python",
   "name": "python",
   "nbconvert_exporter": "python",
   "pygments_lexer": "ipython3",
   "version": "3.10.13"
  }
 },
 "nbformat": 4,
 "nbformat_minor": 2
}
