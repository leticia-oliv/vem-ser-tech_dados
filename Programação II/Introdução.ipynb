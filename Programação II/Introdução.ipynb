{
  "nbformat": 4,
  "nbformat_minor": 0,
  "metadata": {
    "colab": {
      "provenance": [],
      "authorship_tag": "ABX9TyPh5YAlrTQ2iwxQAOPf6a2a",
      "include_colab_link": true
    },
    "kernelspec": {
      "name": "python3",
      "display_name": "Python 3"
    },
    "language_info": {
      "name": "python"
    }
  },
  "cells": [
    {
      "cell_type": "markdown",
      "metadata": {
        "id": "view-in-github",
        "colab_type": "text"
      },
      "source": [
        "<a href=\"https://colab.research.google.com/github/leticia-oliv/vem-ser-tech_dados/blob/main/Programa%C3%A7%C3%A3o%20II/Introdu%C3%A7%C3%A3o.ipynb\" target=\"_parent\"><img src=\"https://colab.research.google.com/assets/colab-badge.svg\" alt=\"Open In Colab\"/></a>"
      ]
    },
    {
      "cell_type": "markdown",
      "source": [
        "# Apresentação Geral\n",
        "\n",
        "## Professor\n",
        "\n",
        "<b>Professor Titular:</b> Henrique Assis Cordeiro\n",
        "<br>\n",
        "<b>Formação:</b>\n",
        "* Graduado em Engenharia Elétria com ênfases em Sistemas de Energia e Eletrônica de Potência pela UFMG\n",
        "* Mestre em Economia com ênfase em Engenharia Financeira pela EESP-FGV"
      ],
      "metadata": {
        "id": "IxVvvSXysw2O"
      }
    },
    {
      "cell_type": "markdown",
      "source": [
        "## O Curso\n",
        "\n",
        "<b>Ementa do Curso:</b>\n",
        "\n",
        "* <b>Aula 1: Tuplas (30/10/2023)</b>\n",
        "    \n",
        "* <b>Aula 2: Dicionários (01/11/2023)</b>\n",
        "    \n",
        "* <b>Aula 3: Compreensão de Listas (06/11/2023)</b>\n",
        "    \n",
        "* <b>Aula 4: Parâmetros de Funções (08/11/2023)</b>\n",
        "    \n",
        "* <b>Aula 5: Conceitos de Programação Funcional (10/11/2023)</b>\n",
        "    \n",
        "* <b>Aula 6: Tratamento de Excessão (13/11/2023)</b>\n",
        "    \n",
        "* <b>Aula 7: Arquivos (17/11/2023)</b>\n",
        "\n",
        "* <b>Aula 8: Dúvidas do Projeto / Tópico Extra (22/11/2023) / Apresentações Finais</b>\n",
        "\n",
        "* <b>Aula 9: Avaliações e Encerramento (24/11/2023)</b>"
      ],
      "metadata": {
        "id": "pg828z2Us8ST"
      }
    }
  ]
}