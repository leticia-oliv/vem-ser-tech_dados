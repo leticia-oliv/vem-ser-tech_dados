{
 "cells": [
  {
   "cell_type": "markdown",
   "metadata": {},
   "source": [
    "# Dicionários\n",
    "\n",
    "Os dicionários em Python são estruturas de dados poderosas que mapeiam chaves para valores. Eles são definidos por meio de chaves {} e contêm pares chave-valor separados por vírgulas."
   ]
  },
  {
   "cell_type": "code",
   "execution_count": 1,
   "metadata": {},
   "outputs": [],
   "source": [
    "# Criando um dicionário vazio\n",
    "meu_dicionario = {}\n",
    "outro_dicionario = dict()\n",
    "\n",
    "# Criando um dicionário com valores iniciais\n",
    "dicionario = {\"chave1\": 'valor1', \"chave2\": 'valor2', \"chave3\": 'valor3'}"
   ]
  },
  {
   "cell_type": "code",
   "execution_count": 2,
   "metadata": {},
   "outputs": [],
   "source": [
    "aluno = {\n",
    "    'nome': 'Letícia',\n",
    "    'notas': [7, 9, 5, 6],\n",
    "    'presenças': 0.8\n",
    "}"
   ]
  },
  {
   "cell_type": "markdown",
   "metadata": {},
   "source": [
    "## Acessando Valores\n",
    "\n",
    "Os valores em um dicionário podem ser acessados através de suas chaves."
   ]
  },
  {
   "cell_type": "code",
   "execution_count": 3,
   "metadata": {},
   "outputs": [],
   "source": [
    "# Acessando um valor pela chave:\n",
    "valor = dicionario[\"chave1\"]\n",
    "\n",
    "# Usando o método get() para acessar um valor\n",
    "valor = dicionario.get(\"chave1\")"
   ]
  },
  {
   "cell_type": "code",
   "execution_count": 4,
   "metadata": {},
   "outputs": [
    {
     "name": "stdout",
     "output_type": "stream",
     "text": [
      "Aluno:  Letícia\n",
      "Notas:  [7, 9, 5, 6]\n",
      "0.8\n"
     ]
    }
   ],
   "source": [
    "print('Aluno: ', aluno['nome'])\n",
    "print('Notas: ', aluno['notas'])\n",
    "print(aluno['presenças'])"
   ]
  },
  {
   "cell_type": "markdown",
   "metadata": {},
   "source": [
    "## Adicionando e Modificando Elementos"
   ]
  },
  {
   "cell_type": "code",
   "execution_count": 5,
   "metadata": {},
   "outputs": [],
   "source": [
    "# Adicionando um novo par chave-valor\n",
    "dicionario[\"nova_chave\"] = 'novo_valor'\n",
    "\n",
    "# Modificando o valor de uma chave existente\n",
    "dicionario[\"chave_existente\"] = 'novo_valor'"
   ]
  },
  {
   "cell_type": "code",
   "execution_count": 6,
   "metadata": {},
   "outputs": [
    {
     "data": {
      "text/plain": [
       "{'nome': 'Letícia', 'notas': [7, 9, 5, 6], 'presenças': 0.8}"
      ]
     },
     "execution_count": 6,
     "metadata": {},
     "output_type": "execute_result"
    }
   ],
   "source": [
    "aluno"
   ]
  },
  {
   "cell_type": "code",
   "execution_count": 7,
   "metadata": {},
   "outputs": [
    {
     "name": "stdout",
     "output_type": "stream",
     "text": [
      "{'nome': 'Letícia', 'notas': [7, 9, 5, 6], 'presenças': 0.8, 'media': 6.75, 'aprovado': True}\n"
     ]
    }
   ],
   "source": [
    "aluno['media'] = sum(aluno['notas'])/len(aluno['notas'])\n",
    "aluno['aprovado'] = aluno['media'] >= 6.0 and aluno['presenças'] >= 0.7\n",
    "print(aluno)"
   ]
  },
  {
   "cell_type": "markdown",
   "metadata": {},
   "source": [
    "## Removendo elementos"
   ]
  },
  {
   "cell_type": "code",
   "execution_count": 21,
   "metadata": {},
   "outputs": [
    {
     "ename": "KeyError",
     "evalue": "'nova_chave'",
     "output_type": "error",
     "traceback": [
      "\u001b[0;31m---------------------------------------------------------------------------\u001b[0m",
      "\u001b[0;31mKeyError\u001b[0m                                  Traceback (most recent call last)",
      "Cell \u001b[0;32mIn[21], line 2\u001b[0m\n\u001b[1;32m      1\u001b[0m \u001b[38;5;66;03m# Removendo um par chave-valor usando a palavra chave 'del'\u001b[39;00m\n\u001b[0;32m----> 2\u001b[0m \u001b[38;5;28;01mdel\u001b[39;00m dicionario[\u001b[38;5;124m\"\u001b[39m\u001b[38;5;124mnova_chave\u001b[39m\u001b[38;5;124m\"\u001b[39m]\n\u001b[1;32m      4\u001b[0m \u001b[38;5;66;03m#Removendo um par chave-valor e retornando o valor removido\u001b[39;00m\n\u001b[1;32m      5\u001b[0m valor_removido \u001b[38;5;241m=\u001b[39m dicionario\u001b[38;5;241m.\u001b[39mpop(\u001b[38;5;124m'\u001b[39m\u001b[38;5;124mchave2\u001b[39m\u001b[38;5;124m'\u001b[39m)\n",
      "\u001b[0;31mKeyError\u001b[0m: 'nova_chave'"
     ]
    }
   ],
   "source": [
    "# Removendo um par chave-valor usando a palavra-chave 'del'\n",
    "del dicionario[\"chave_para_remover\"]\n",
    "\n",
    "# Removendo um par chave-valor e retornando o valor removido\n",
    "valor_removido = dicionario.pop(\"chave_para_remover\")\n",
    "\n",
    "# Removendo o último par chave-valor inserido\n",
    "ultimo_item_removido = dicionario.popitem()"
   ]
  },
  {
   "cell_type": "code",
   "execution_count": 22,
   "metadata": {},
   "outputs": [
    {
     "name": "stdout",
     "output_type": "stream",
     "text": [
      "{'nome': 'Mario', 'notas': [7, 9, 5, 6]}\n"
     ]
    }
   ],
   "source": [
    "aluno = {'nome':'Mario', 'notas':[7, 9, 5, 6], 'presencas':0.8}\n",
    "a = aluno.pop('presencas')\n",
    "print(aluno)"
   ]
  },
  {
   "cell_type": "markdown",
   "metadata": {},
   "source": [
    "## Verificando a Existência de uma Chave"
   ]
  },
  {
   "cell_type": "code",
   "execution_count": null,
   "metadata": {},
   "outputs": [],
   "source": [
    "if 'chave' in dicionario:\n",
    "    #Fazer algo"
   ]
  },
  {
   "cell_type": "markdown",
   "metadata": {},
   "source": [
    "## Iterando sobre dicionários"
   ]
  },
  {
   "cell_type": "code",
   "execution_count": null,
   "metadata": {},
   "outputs": [],
   "source": [
    "# Iterando sobre as chaves\n",
    "for chave in dicionario:\n",
    "    # Fazer algo com dicionario[chave]\n",
    "\n",
    "# Iterando sobre chaves e valores simultaneamente\n",
    "for chave, valor in dicionario.items():\n",
    "    # Fazer algo com chave e valor"
   ]
  },
  {
   "cell_type": "markdown",
   "metadata": {},
   "source": [
    "## Dicionários aninhados\n",
    "Dicionários podem conter outros dicionários como valores."
   ]
  },
  {
   "cell_type": "code",
   "execution_count": null,
   "metadata": {},
   "outputs": [],
   "source": [
    "dicionario_aninhado = {\n",
    "    \"chave1\": {\"subchave1\": 'valor1', \"subchave2\": 'valor2'},\n",
    "    \"chave2\": {\"subchave1\": 'valor3', \"subchave2\": 'valor4'}\n",
    "}"
   ]
  },
  {
   "cell_type": "markdown",
   "metadata": {},
   "source": [
    "## Separando chaves e valores\n",
    "\n",
    "O Python possui funções para obter, separadamente, todas as chaves ou todos os valores de um dicionário. Elas são, respectivamente, _keys_ e _values_. Podemos transformar o retorno dessa função em uma lista ou tupla."
   ]
  },
  {
   "cell_type": "code",
   "execution_count": 24,
   "metadata": {},
   "outputs": [
    {
     "name": "stdout",
     "output_type": "stream",
     "text": [
      "Chaves:  ['nome', 'notas', 'presenças']\n",
      "Valores:  ['Letícia', [7, 8, 9, 10], 0.8]\n"
     ]
    }
   ],
   "source": [
    "aluno = {'nome': 'Letícia', 'notas': [7, 8, 9, 10], 'presenças': 0.8}\n",
    "\n",
    "chaves = list(aluno.keys())\n",
    "valores = list(aluno.values())\n",
    "\n",
    "print('Chaves: ', chaves)\n",
    "print('Valores: ', valores)"
   ]
  },
  {
   "cell_type": "markdown",
   "metadata": {},
   "source": [
    "# Exercícios Resolvidos:"
   ]
  },
  {
   "cell_type": "markdown",
   "metadata": {},
   "source": [
    "1. Crie um dicionário chamado \"alunos\" que mapeie os nomes dos alunos aos seus respectivos números de matrícula. Adicione pelo menos três alunos ao dicionário e escreva depois solicite ao usuário um nome de aluno e imprima o número de matrícula correspondente."
   ]
  },
  {
   "cell_type": "code",
   "execution_count": 2,
   "metadata": {},
   "outputs": [
    {
     "name": "stdout",
     "output_type": "stream",
     "text": [
      "Número de matrícula de João: 91203.\n"
     ]
    }
   ],
   "source": [
    "alunos = {\n",
    "    \"Letícia\": 21200,\n",
    "    \"João\": 91203,\n",
    "    \"Gabriel\": 130306\n",
    "}\n",
    "nome_aluno = input('Digite o nome do aluno: ')\n",
    "\n",
    "if nome_aluno in alunos:\n",
    "    print(f'Número de matrícula de {nome_aluno}: {alunos[nome_aluno]}.')\n",
    "else:\n",
    "    print('Aluno não encontrado.')"
   ]
  },
  {
   "cell_type": "markdown",
   "metadata": {},
   "source": [
    "2. Crie um dicionário chamado \"estoque\" que mapeie o nome dos produtos aos seus respectivos preços. Adicione alguns produtos ao estoque e depois calcule e imprima o valor <b>total</b> do estoque."
   ]
  },
  {
   "cell_type": "code",
   "execution_count": 4,
   "metadata": {},
   "outputs": [
    {
     "name": "stdout",
     "output_type": "stream",
     "text": [
      "O valor total do estoque é: R$19.5\n"
     ]
    }
   ],
   "source": [
    "estoque = {\n",
    "    \"Banana\": 12.00,\n",
    "    \"Alface\": 2.00,\n",
    "    \"Tomate\": 5.50\n",
    "}\n",
    "\n",
    "valor_total = sum(estoque.values())\n",
    "\n",
    "print(f'O valor total do estoque é: R${valor_total}')"
   ]
  },
  {
   "cell_type": "markdown",
   "metadata": {},
   "source": [
    "3. Crie um dicionário chamado \"traducoes\" que mapeie algumas palavras em inglês aos seus respectivos significados em português. Em seguida, solicite ao usuário uma palavra em inglês e imprima o significado correspondente em português. Se a palavra não estiver no dicionário, imprima uma mensagem informando que a palavra não foi encontrada."
   ]
  },
  {
   "cell_type": "code",
   "execution_count": 1,
   "metadata": {},
   "outputs": [
    {
     "name": "stdout",
     "output_type": "stream",
     "text": [
      "O significado de love é amor\n"
     ]
    }
   ],
   "source": [
    "traducoes = {\n",
    "    'happy': 'feliz',\n",
    "    'sad': 'triste',\n",
    "    'love': 'amor'\n",
    "}\n",
    "\n",
    "significado = input('Digite uma palavra em inglês para descobrir o significado:')\n",
    "\n",
    "if significado in traducoes:\n",
    "    print(f'O significado de {significado} é {traducoes[significado]}')\n",
    "else:\n",
    "    print(f'A palavra {significado} não foi encontrada.')"
   ]
  },
  {
   "cell_type": "markdown",
   "metadata": {},
   "source": [
    "4. Você está desenvolvendo um sistema de gerenciamento de estoque para uma loja. Crie um dicionário chamado \"estoque\" que mapeie o nome de um produto a um dicionário contendo o preço e a quantidade em estoque. Adicione alguns produtos ao dicionário e incremente o programa para permitir ao usuário fazer as seguintes operações:\n",
    "\n",
    "* Adicionar um produto ao estoque, fornecendo o nome, o preço e a quantidade.\n",
    "* Atualizar o preço de um produto existente no estoque.\n",
    "* Vender um determinado número de unidades de um produto e atualizar a quantidade em estoque.\n",
    "* Imprimir a lista completa de produtos e suas informações (nome, preço e quantidade)."
   ]
  },
  {
   "cell_type": "code",
   "execution_count": 1,
   "metadata": {},
   "outputs": [],
   "source": [
    "estoque = {}\n",
    "\n",
    "def adicionar_produto(nome, preco, quantidade):\n",
    "    if nome in estoque:\n",
    "        print('Produto já existe no estoque. Utilize a função \"atualizar produto\" para atualizar o preço.')\n",
    "    else:\n",
    "        estoque[nome] = {'preco': preco, 'quantidade': quantidade}\n",
    "        print(f'Produto \"{nome}\" adicionado ao estoque.')\n",
    "\n",
    "def atualizar_preco(nome, novo_preco):\n",
    "    if nome in estoque:\n",
    "        estoque[nome]['preco'] = novo_preco\n",
    "        print(f'Preço do produto \"{nome}\" atualizado para R${novo_preco}.')\n",
    "    else:\n",
    "        print('Produto não encontrado.')\n",
    "\n",
    "def vender_produto(nome, quantidade_vendida):\n",
    "    if nome in estoque:\n",
    "        if quantidade_vendida <= estoque[nome]['quantidade']:\n",
    "            estoque[nome]['quantidade'] -= quantidade_vendida\n",
    "            print(f'{quantidade_vendida} unidades do produto \"{nome}\" vendidas')\n",
    "        else:\n",
    "            print('Quantidade insuficiente no estoque.')\n",
    "    else:\n",
    "        print('Produto não encontrado.')\n",
    "\n",
    "def imprimir_estoque():\n",
    "    print('Estoque:')\n",
    "    for produto, info in estoque.items():\n",
    "        print(f\"Nome: {produto}, Preço: R${info['preco']}, Quantidade em estoque: {info['quantidade']}\")"
   ]
  },
  {
   "cell_type": "code",
   "execution_count": 2,
   "metadata": {},
   "outputs": [
    {
     "name": "stdout",
     "output_type": "stream",
     "text": [
      "Produto \"Kit Copo\" adicionado ao estoque.\n",
      "Produto \"Calça Jeans\" adicionado ao estoque.\n",
      "Estoque:\n",
      "Nome: Kit Copo, Preço: R$25.0, Quantidade em estoque: 50\n",
      "Nome: Calça Jeans, Preço: R$301.5, Quantidade em estoque: 16\n"
     ]
    }
   ],
   "source": [
    "adicionar_produto(\"Kit Copo\", 25.0, 50)\n",
    "adicionar_produto(\"Calça Jeans\", 301.5, 16)\n",
    "imprimir_estoque()"
   ]
  },
  {
   "cell_type": "code",
   "execution_count": 3,
   "metadata": {},
   "outputs": [
    {
     "name": "stdout",
     "output_type": "stream",
     "text": [
      "Preço do produto \"Kit Copo\" atualizado para R$35.\n",
      "2 unidades do produto \"Calça Jeans\" vendidas\n",
      "Estoque:\n",
      "Nome: Kit Copo, Preço: R$35, Quantidade em estoque: 50\n",
      "Nome: Calça Jeans, Preço: R$301.5, Quantidade em estoque: 14\n"
     ]
    }
   ],
   "source": [
    "atualizar_preco(\"Kit Copo\", 35)\n",
    "vender_produto(\"Calça Jeans\", 2)\n",
    "imprimir_estoque()"
   ]
  },
  {
   "cell_type": "markdown",
   "metadata": {},
   "source": [
    "5. Você está construindo um sistema de votação para uma eleição. Crie um dicionário chamado \"eleicao\" que mapeie os nomes dos candidatos aos seus respectivos números de votos. Inicialmente, todos os candidatos têm zero votos e as seguintes operações devem poder ser executadas:\n",
    "\n",
    "* Registrar um voto para um candidato específico.\n",
    "* Verificar o número total de votos de um candidato.\n",
    "* Verificar o número total de votos contabilizados.\n",
    "* Imprimir a lista de candidatos e seus números de votos."
   ]
  },
  {
   "cell_type": "code",
   "execution_count": 1,
   "metadata": {},
   "outputs": [],
   "source": [
    "eleicao = {}\n",
    "\n",
    "def registrar_voto(candidato):\n",
    "    if candidato in eleicao:\n",
    "        eleicao[candidato] += 1\n",
    "    else:\n",
    "        eleicao[candidato] = 1\n",
    "\n",
    "def votos_candidato(candidato):\n",
    "    return eleicao.get(candidato, 0)\n",
    "\n",
    "def verificar_total():\n",
    "    return sum(eleicao.values())\n",
    "\n",
    "def listar_candidato_voto():\n",
    "    for candidato, votos in eleicao.items():\n",
    "        print(f'{candidato}: {votos} votos')"
   ]
  },
  {
   "cell_type": "code",
   "execution_count": 2,
   "metadata": {},
   "outputs": [],
   "source": [
    "# Registrando votos\n",
    "registrar_voto(\"Candidato A\")\n",
    "registrar_voto(\"Candidato B\")\n",
    "registrar_voto(\"Candidato A\")\n",
    "registrar_voto(\"Candidato C\")\n",
    "registrar_voto(\"Candidato B\")"
   ]
  },
  {
   "cell_type": "code",
   "execution_count": 3,
   "metadata": {},
   "outputs": [
    {
     "name": "stdout",
     "output_type": "stream",
     "text": [
      "Votos para o Candidato A: 2\n",
      "Total de votos: 5\n",
      "Candidatos e seus votos:\n",
      "Candidato A: 2 votos\n",
      "Candidato B: 2 votos\n",
      "Candidato C: 1 votos\n"
     ]
    }
   ],
   "source": [
    "# Verificando votos por candidato\n",
    "print(\"Votos para o Candidato A:\", votos_candidato(\"Candidato A\"))\n",
    "\n",
    "# Verificando total de votos\n",
    "print(\"Total de votos:\", verificar_total())\n",
    "\n",
    "# Listando candidatos e seus votos\n",
    "print(\"Candidatos e seus votos:\")\n",
    "listar_candidato_voto()"
   ]
  }
 ],
 "metadata": {
  "kernelspec": {
   "display_name": "Python 3",
   "language": "python",
   "name": "python3"
  },
  "language_info": {
   "codemirror_mode": {
    "name": "ipython",
    "version": 3
   },
   "file_extension": ".py",
   "mimetype": "text/x-python",
   "name": "python",
   "nbconvert_exporter": "python",
   "pygments_lexer": "ipython3",
   "version": "3.0.0"
  }
 },
 "nbformat": 4,
 "nbformat_minor": 2
}
