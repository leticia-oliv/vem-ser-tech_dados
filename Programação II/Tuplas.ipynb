{
 "cells": [
  {
   "cell_type": "markdown",
   "metadata": {},
   "source": [
    "# Tuplas\n",
    "\n",
    "Neste capítulo estudaremos uma estrutura de dados, ou seja, uma forma estruturada de armazenar múltiplos dados. Você provavelmente já estudou pelo menos outra estrutura de dados em Python: a **lista**.\n",
    "\n",
    "Vamos brevemente revisar os conceitos de lista, pois eles serão úteis para compreender nossa nova estrutura, a **tupla**.\n",
    "\n",
    "Focaremos em funcionalidades, não em funções prontas e métodos de lista."
   ]
  },
  {
   "cell_type": "markdown",
   "metadata": {},
   "source": [
    "## Revisão de Listas\n",
    "\n",
    "### Criando uma Lista e Acessando Elementos\n",
    "\n",
    "A lista é uma coleção de objetos em Python. Criando uma única variável para representar a lista, podemos armazenar múltiplos valores. Internamente, esses valores são representados por seus **índices**: um número inteiro, iniciando em zero e incrementando com passo unitário. \n",
    "\n",
    "Podemos criar uma lista através da função ```list``` ou utilizando um par de colchetes:"
   ]
  },
  {
   "cell_type": "code",
   "execution_count": 1,
   "metadata": {},
   "outputs": [
    {
     "name": "stdout",
     "output_type": "stream",
     "text": [
      "Brasil\n",
      "Espanha\n",
      "['Curso', 3.14, False, 1202]\n",
      "Curso\n",
      "Web Full Stack\n",
      "Módulo 2\n"
     ]
    }
   ],
   "source": [
    "lista1 = list()\n",
    "lista2 = []\n",
    "\n",
    "paises = ['Brasil', 'Espanha', 'Angola'] #Lista com 3 elementos\n",
    "dadosVariados = ['Curso', 3.14, False, 1202] #Lista com tipos de dados diferentes\n",
    "\n",
    "listaDelistas = [['Curso', ['Módulo 1', 'Módulo 2']], ['Data Science', 'Lógica I', 'Lógica II'], ['Web Full Stack', 'Front End Estático', 'Front End Dinâmico']]\n",
    "\n",
    "print(paises[0])\n",
    "print(paises[1])\n",
    "print(dadosVariados)\n",
    "print(dadosVariados[-4])\n",
    "print(listaDelistas[2][0])\n",
    "print(listaDelistas[0][1][1])"
   ]
  },
  {
   "cell_type": "markdown",
   "metadata": {},
   "source": [
    "### Iterando uma Lista\n",
    "\n",
    "Como os elementos em uma lista são representados por números inteiros, podemos facilmente percorrê-la variando seu índice de maneira automatizada:"
   ]
  },
  {
   "cell_type": "code",
   "execution_count": 2,
   "metadata": {},
   "outputs": [
    {
     "name": "stdout",
     "output_type": "stream",
     "text": [
      "Curso, 3.14, False, 1202, "
     ]
    }
   ],
   "source": [
    "for i in range(4):\n",
    "    print(dadosVariados[i], end=', ')"
   ]
  },
  {
   "cell_type": "markdown",
   "metadata": {},
   "source": [
    "Apesar de funcionar, essa forma é considerada pouco legível. Existe uma maneira mais direta de percorrer uma lista. Ao trocarmos a função *range* do nosso *for* pela própria lista, ele irá **copiar** cada elemento da lista para a variável temporária. Assim conseguimos facilmente, e de maneira bem legível, acessar todos os elementos de uma lista:"
   ]
  },
  {
   "cell_type": "code",
   "execution_count": null,
   "metadata": {},
   "outputs": [],
   "source": [
    "for elemento in dadosVariados:\n",
    "    print(elemento, end=', ')"
   ]
  },
  {
   "cell_type": "code",
   "execution_count": 3,
   "metadata": {},
   "outputs": [
    {
     "name": "stdout",
     "output_type": "stream",
     "text": [
      "Curso\n",
      "['Módulo 1', 'Módulo 2']\n",
      "Data Science\n",
      "Lógica I\n",
      "Lógica II\n",
      "Web Full Stack\n",
      "Front End Estático\n",
      "Front End Dinâmico\n"
     ]
    }
   ],
   "source": [
    "for linha in listaDelistas:\n",
    "    for elemento in linha:\n",
    "        print(elemento)"
   ]
  },
  {
   "cell_type": "markdown",
   "metadata": {},
   "source": [
    "### *Slicing* de Listas\n",
    "\n",
    "Uma operação bastante comum em uma lista é extrair apenas uma parte dela. Para isso você deve informar, pelo menos, o índice inicial e o índice final, sendo que o índice final não irá entrar na conta - dizemos que ele é um valor \"exclusivo\", como se fosse um intervalo aberto naquele ponto."
   ]
  },
  {
   "cell_type": "code",
   "execution_count": 11,
   "metadata": {},
   "outputs": [
    {
     "name": "stdout",
     "output_type": "stream",
     "text": [
      "['acerola', 'ameixa', 'abacaxi']\n"
     ]
    }
   ],
   "source": [
    "frutas = ['banana', 'maçã', 'acerola', 'ameixa', 'abacaxi', 'goiaba', 'uva']\n",
    "\n",
    "algumasFrutas = frutas[2:5]\n",
    "print(algumasFrutas)"
   ]
  },
  {
   "cell_type": "code",
   "execution_count": 12,
   "metadata": {},
   "outputs": [
    {
     "name": "stdout",
     "output_type": "stream",
     "text": [
      "['banana', 'maçã', 'acerola']\n",
      "['abacaxi', 'goiaba', 'uva']\n"
     ]
    }
   ],
   "source": [
    "primeiras3Frutas = frutas[:3]\n",
    "print(primeiras3Frutas)\n",
    "\n",
    "ultimas3Frutas = frutas[4:]\n",
    "print(ultimas3Frutas)"
   ]
  },
  {
   "cell_type": "code",
   "execution_count": 13,
   "metadata": {},
   "outputs": [
    {
     "name": "stdout",
     "output_type": "stream",
     "text": [
      "['banana', 'maçã', 'acerola', 'ameixa', 'abacaxi', 'goiaba', 'uva', 'pera']\n"
     ]
    }
   ],
   "source": [
    "copiaFrutas = frutas\n",
    "copiaFrutas.append('pera')\n",
    "print(copiaFrutas)"
   ]
  },
  {
   "cell_type": "code",
   "execution_count": 16,
   "metadata": {},
   "outputs": [
    {
     "name": "stdout",
     "output_type": "stream",
     "text": [
      "['banana', 'maçã', 'acerola', 'ameixa', 'abacaxi', 'goiaba', 'uva', 'pera', 'morango']\n"
     ]
    }
   ],
   "source": [
    "copiaRealFrutas = frutas[:]\n",
    "copiaRealFrutas.append('morango')\n",
    "print(copiaRealFrutas)"
   ]
  },
  {
   "cell_type": "markdown",
   "metadata": {},
   "source": [
    "## Tuplas\n",
    "\n",
    "### Operações Básicas\n",
    "\n",
    "Assim como as listas, tuplas também são coleções de objetos. Elas podem armazenar diversos objetos de diferentes tipos. Elas também possuem índice, que se comporta da mesma maneira que os índices de uma lista. Podemos criar tuplas utilizando parênteses ou a função ```tuple```. Caso a tupla possua pelo menos 2 elementos, não precisamos dos parênteses, basta separar os valores por vírgula, apesar de ser **recomendável** utilizá-los para evitar ambiguidades:"
   ]
  },
  {
   "cell_type": "code",
   "execution_count": null,
   "metadata": {},
   "outputs": [],
   "source": [
    "tupla1 = tuple() # Criando uma tupla vazia\n",
    "tupla2 = () # Criando uma tupla vazia\n",
    "\n",
    "linguagens =('Python', 'JavaScript', 'SQL')\n",
    "dadosVariados = 3.14, 1000, True, 'abacate'\n",
    "\n",
    "tuplaDeTuplas = (('Curso', ('Módulo 1', 'Módulo 2')), ('Data Science', 'Lógica de Programação I', 'Lógica de Programação II'), ('Web Full Stack', 'Front End Estático', 'Front End Dinâmico'))\n",
    "\n",
    "print(linguagens[0]) # imprime \"Python\"\n",
    "print(linguagens[1]) # imprime \"JavaScript\"\n",
    "print(dadosVariados[2]) # imprime True\n",
    "print(tuplaDeTuplas[2][0]) # imprime \"Web Full Stack\"\n",
    "print(tuplaDeTuplas[0][1][1]) # imprime \"Web Full Stack\""
   ]
  },
  {
   "cell_type": "markdown",
   "metadata": {},
   "source": [
    "Todas as outras operações que revisamos hoje em listas podem ser realizadas com tuplas:\n",
    "* iteração através de um loop do tipo `for`\n",
    "* _slicing_ passando índice inicial, final e salto\n",
    "* concatenação\n",
    "\n",
    "É possível também fazer conversão de lista para tupla e vice-versa:"
   ]
  },
  {
   "cell_type": "code",
   "execution_count": 17,
   "metadata": {},
   "outputs": [
    {
     "name": "stdout",
     "output_type": "stream",
     "text": [
      "('abacate', 'banana', 'carambola', 'damasco', 'embaúba', 'framboesa', 'goiaba')\n",
      "['abacate', 'banana', 'carambola', 'damasco', 'embaúba', 'framboesa', 'goiaba']\n"
     ]
    }
   ],
   "source": [
    "listaFrutas = ['abacate', 'banana', 'carambola', 'damasco', 'embaúba', 'framboesa', 'goiaba']\n",
    "\n",
    "tuplaFrutas = tuple(listaFrutas)\n",
    "print(tuplaFrutas)\n",
    "\n",
    "novaListaFrutas = list(tuplaFrutas)\n",
    "print(novaListaFrutas)"
   ]
  },
  {
   "cell_type": "markdown",
   "metadata": {},
   "source": [
    "### Imutabilidade\n",
    "\n",
    "Listas possuem uma propriedade que a tupla **não** possui: **mutabilidade**. O código abaixo irá funcionar para a operação na lista, mas irá falhar para a operação na tupla:"
   ]
  },
  {
   "cell_type": "code",
   "execution_count": null,
   "metadata": {},
   "outputs": [],
   "source": [
    "listaFrutas = ['abacate', 'banana', 'carambola', 'damasco', 'embaúba', 'framboesa', 'goiaba']\n",
    "tuplaFrutas = ('abacate', 'banana', 'carambola', 'damasco', 'embaúba', 'framboesa', 'goiaba')\n",
    "\n",
    "listaFrutas[0] = 'melao'\n",
    "print(listaFrutas)\n",
    "# tuplaFrutas[0] = 'melao'"
   ]
  },
  {
   "cell_type": "markdown",
   "metadata": {},
   "source": [
    "### Zip\n",
    "\n",
    "Vamos pensar em um problema onde precisamos percorrer duas listas simultaneamente. Por exemplo, considere que temos uma lista com os nomes de todos os alunos de uma turma, e outra com as notas, na mesma ordem. Como faríamos para acessar, simultaneamente, o nome de um aluno e a sua nota?\n",
    "\n",
    "Esse é um problema onde, a princípio, utilizaríamos índice. Se usarmos o mesmo índice nas duas listas, estamos na prática percorrendo ambas as listas simultaneamente:"
   ]
  },
  {
   "cell_type": "code",
   "execution_count": 18,
   "metadata": {},
   "outputs": [
    {
     "name": "stdout",
     "output_type": "stream",
     "text": [
      "Aluno Paul: 10\n",
      "Aluno John: 9.5\n",
      "Aluno George: 7\n",
      "Aluno Ringo: 5\n"
     ]
    }
   ],
   "source": [
    "alunos = ['Paul', 'John', 'George', 'Ringo']\n",
    "notas = [10, 9.5, 7, 5]\n",
    "notas3 = [11, 12, 14, 15, 17, 21]\n",
    "notas4 = [13, 16]\n",
    "\n",
    "for indice in range(len(alunos)):\n",
    "    print(f'Aluno {alunos[indice]}: {notas[indice]}')"
   ]
  },
  {
   "cell_type": "code",
   "execution_count": 19,
   "metadata": {},
   "outputs": [
    {
     "name": "stdout",
     "output_type": "stream",
     "text": [
      "('Paul', 10)\n",
      "('John', 9.5)\n",
      "('George', 7)\n",
      "('Ringo', 5)\n"
     ]
    }
   ],
   "source": [
    "#Com o Zip:\n",
    "for x in zip(alunos, notas):\n",
    "    print(x)"
   ]
  },
  {
   "cell_type": "markdown",
   "metadata": {},
   "source": [
    "## Exercícios\n",
    "\n",
    "1. Defina duas tuplas: uma com nomes de comida (pelo menos 5 nomes) e outra com os preços das comidas - preservando a ordem. Mostre no *standard output* a relação de comida-preço.\n",
    "\n",
    "2. Agora, ainda com as tuplas acima, pegue apenas o nome e o preço das três comidas no meio da tupla. (considere \"meio da lista\" como sendo, por exemplo: ('A', 'B', 'C', 'D', 'E') --> ('B', 'C', 'D').\n",
    "\n",
    "3. Defina uma tupla com pelo menos cinco valores e mostre no *standar output* esta tupla invertida. (exemplo, (1, 2, 3, 4) --> (4, 3, 2, 1)\n",
    "\n",
    "4. Dada a seguinte tupla: (('a', 23),('b', 37),('c', 11), ('d',29)). Ordene esta tupla de acordo com o segundo item.\n",
    "\n",
    "5. Defina uma tupla com pelo menos dez itens e crie uma nova tupla com apenas os itens de índice PAR da tupla original."
   ]
  },
  {
   "cell_type": "code",
   "execution_count": 20,
   "metadata": {},
   "outputs": [
    {
     "name": "stdout",
     "output_type": "stream",
     "text": [
      "arroz - R$20\n",
      "feijão - R$15\n",
      "abóbora - R$4.7\n",
      "tomate - R$5.2\n",
      "frango - R$27\n"
     ]
    }
   ],
   "source": [
    "#Exercício 1:\n",
    "\n",
    "comidas = ('arroz', 'feijão', 'abóbora', 'tomate', 'frango')\n",
    "precos = (20, 15, 4.7, 5.2, 27)\n",
    "\n",
    "for i in range(len(comidas)):\n",
    "    print(f'{comidas[i]} - R${precos[i]}')"
   ]
  },
  {
   "cell_type": "code",
   "execution_count": 25,
   "metadata": {},
   "outputs": [
    {
     "name": "stdout",
     "output_type": "stream",
     "text": [
      "('feijão', 'abóbora', 'tomate')\n",
      "(15, 4.7, 5.2)\n"
     ]
    }
   ],
   "source": [
    "#Exercício 2:\n",
    "\n",
    "print(comidas[1:4])\n",
    "print(precos[1:4])"
   ]
  },
  {
   "cell_type": "code",
   "execution_count": 27,
   "metadata": {},
   "outputs": [
    {
     "name": "stdout",
     "output_type": "stream",
     "text": [
      "('frango', 'tomate', 'abóbora', 'feijão', 'arroz')\n"
     ]
    }
   ],
   "source": [
    "#Exercício 3:\n",
    "comidasInvertidas = comidas[::-1]\n",
    "print(comidasInvertidas)"
   ]
  },
  {
   "cell_type": "code",
   "execution_count": null,
   "metadata": {},
   "outputs": [],
   "source": [
    "# Definindo a tupla\n",
    "tupla_original = (('a', 23), ('b', 37), ('c', 11), ('d', 29))\n",
    "\n",
    "# Convertendo a tupla para uma lista (para permitir a modificação)\n",
    "lista_ordenada = list(tupla_original)\n",
    "\n",
    "# Ordenando a lista por seleção com base no segundo elemento de cada tupla\n",
    "for i in range(len(lista_ordenada)):\n",
    "    min_index = i\n",
    "    for j in range(i + 1, len(lista_ordenada)):\n",
    "        if lista_ordenada[j][1] < lista_ordenada[min_index][1]:\n",
    "            min_index = j\n",
    "    lista_ordenada[i], lista_ordenada[min_index] = lista_ordenada[min_index], lista_ordenada[i]\n",
    "\n",
    "# Convertendo a lista de volta para uma tupla\n",
    "tupla_ordenada = tuple(lista_ordenada)\n",
    "\n",
    "# Mostrando a tupla ordenada no standard output\n",
    "print(tupla_ordenada)"
   ]
  }
 ],
 "metadata": {
  "kernelspec": {
   "display_name": ".venv",
   "language": "python",
   "name": "python3"
  },
  "language_info": {
   "codemirror_mode": {
    "name": "ipython",
    "version": 3
   },
   "file_extension": ".py",
   "mimetype": "text/x-python",
   "name": "python",
   "nbconvert_exporter": "python",
   "pygments_lexer": "ipython3",
   "version": "3.11.5"
  }
 },
 "nbformat": 4,
 "nbformat_minor": 2
}
