{
 "cells": [
  {
   "cell_type": "markdown",
   "metadata": {},
   "source": [
    "# Aula 5 - Malhas de repetição condicionais\n",
    "\n",
    "### Malha de Repetição while:\n",
    "A malha de repetição while executa um bloco de código enquanto uma condição é verdadeira. Ela segue este formato:"
   ]
  },
  {
   "cell_type": "code",
   "execution_count": null,
   "metadata": {},
   "outputs": [],
   "source": [
    "while condição:\n",
    "    # código a ser repetido enquanto a condição for verdadeira\n"
   ]
  },
  {
   "cell_type": "code",
   "execution_count": null,
   "metadata": {},
   "outputs": [],
   "source": [
    "contador = 0\n",
    "while contador < 5:\n",
    "    print(contador)\n",
    "    contador += 1\n",
    "#Neste exemplo, o código dentro da malha while será executado enquanto a\n",
    "# condição contador < 5 for verdadeira. O contador é incrementado a cada iteração."
   ]
  },
  {
   "cell_type": "markdown",
   "metadata": {},
   "source": [
    "### Malha de Repetição for:\n",
    "A malha de repetição for é utilizada para iterar sobre uma sequência de elementos, como uma lista ou uma string. Ela segue este formato:"
   ]
  },
  {
   "cell_type": "code",
   "execution_count": null,
   "metadata": {},
   "outputs": [],
   "source": [
    "for elemento in sequência:\n",
    "    # código a ser executado para cada elemento na sequência"
   ]
  },
  {
   "cell_type": "code",
   "execution_count": null,
   "metadata": {},
   "outputs": [],
   "source": [
    "frutas = [\"maçã\", \"banana\", \"cereja\"]\n",
    "for fruta in frutas:\n",
    "    print(fruta)\n"
   ]
  },
  {
   "cell_type": "markdown",
   "metadata": {},
   "source": [
    "## Diferenças:\n",
    " - A malha while é usada quando você não sabe previamente quantas vezes o código será executado, dependendo de uma condição que pode mudar.\n",
    " - A malha for é usada quando você sabe quantas vezes o código precisa ser executado, baseando-se na quantidade de elementos na sequência.\n",
    " \n",
    "Ambas as malhas de repetição são muito úteis em diferentes situações e podem ser combinadas com condicionais (if, else, elif) para criar fluxos de controle mais complexos em seus programas Python. Elas ajudam a automatizar tarefas repetitivas e a lidar com uma grande quantidade de dados de maneira eficiente.\n",
    "\n",
    "# Comandos de manipulação de fluxo\n",
    " \n",
    "É possível manipular de algumas maneiras a forma como uma malha de repetição se comporta: nós podemos interromper sua execução sem que sua condição de parada tenha sido atingida e podemos saltar para o próximo passo sem finalizar o atual.\n",
    " \n",
    "## Break\n",
    " \n",
    "Vamos montar um exemplo simples: imagine que você irá fazer um joguinho onde o usuário terá 10 tentativas para adivinhar um número secreto. Um bom primeiro passo seria criar um loop que conta as 10 tentativas:"
   ]
  },
  {
   "cell_type": "code",
   "execution_count": 2,
   "metadata": {},
   "outputs": [
    {
     "name": "stdout",
     "output_type": "stream",
     "text": [
      "Acertou\n"
     ]
    }
   ],
   "source": [
    "numero_secreto = 42\n",
    " \n",
    "contador = 0\n",
    " \n",
    "while contador < 10:\n",
    "  tentativa = int(input('Adivinhe o número secreto: '))\n",
    "  if tentativa == numero_secreto:\n",
    "    print('Acertou')\n",
    "    break\n",
    "  else:\n",
    "    print('Errou')\n",
    "  contador += 1"
   ]
  },
  {
   "cell_type": "markdown",
   "metadata": {},
   "source": [
    "## Continue\n",
    " \n",
    "Existe outro comando de desvio de fluxo de malhas de repetição: o ```continue```. A diferença entre ele e o ```break``` é que o ```continue``` encerra apenas o passo atual de repetição, mas ele não encerra o loop como um todo. Quando executamos esse comando, o loop irá voltar para o topo, testar novamente sua condição de parada, e caso ela não tenha sido atingida, ele iniciará uma nova **iteração** (ou seja, um novo passo em um loop).\n",
    " \n",
    "Vamos reescrever nosso programa anterior invertendo a verificação para vermos o ```continue``` em ação."
   ]
  },
  {
   "cell_type": "code",
   "execution_count": null,
   "metadata": {},
   "outputs": [],
   "source": [
    "numero_secreto = 42\n",
    " \n",
    "contador = 0\n",
    " \n",
    "while contador < 10:\n",
    "    tentativa = int(input('Adivinhe o número secreto: '))\n",
    "    \n",
    "    if tentativa != numero_secreto:\n",
    "        print('Errou!')\n",
    "        continue\n",
    "    contador += 1\n",
    "    print('Acertou!')\n",
    "    break\n",
    "else:\n",
    "    print('Acabaram as tentativas. Você perdeu.')"
   ]
  }
 ],
 "metadata": {
  "kernelspec": {
   "display_name": "nome-do-ambiente",
   "language": "python",
   "name": "python3"
  },
  "language_info": {
   "codemirror_mode": {
    "name": "ipython",
    "version": 3
   },
   "file_extension": ".py",
   "mimetype": "text/x-python",
   "name": "python",
   "nbconvert_exporter": "python",
   "pygments_lexer": "ipython3",
   "version": "3.8.17"
  }
 },
 "nbformat": 4,
 "nbformat_minor": 2
}
