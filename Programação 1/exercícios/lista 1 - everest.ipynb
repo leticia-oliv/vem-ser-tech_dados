{
 "cells": [
  {
   "cell_type": "markdown",
   "metadata": {},
   "source": [
    "## 1. Operadores\n",
    "Pedrinho trabalha com vendas de carro, mensalmente ele recebe um salário fixo e comissões baseadas em suas vendas. As comissões são as seguintes\n",
    "\n",
    "Comissões:\n",
    "\n",
    "5% sobre o valor total vendido no mês\n",
    "valor fixo por cada carro vendido\n",
    "Faça uma função que recebe uma lista com: número de carros por ele vendidos no mês, o valor total de suas vendas no mês, seu salário fixo, valor fixo que ele recebe por carro vendido. Calcule e retorne qual o salário dele (salário fixo mais comissões). Arredondar o valor de retorno para duas casas decimais."
   ]
  },
  {
   "cell_type": "code",
   "execution_count": null,
   "metadata": {},
   "outputs": [],
   "source": [
    "#Ex:\n",
    "Entrada: [3, 20000.00, 2000.00, 250.00]\n",
    "Saída: 3750.00\n",
    "\n",
    "#Ex:\n",
    "Entrada: [4,25000.00, 3500.00, 100.00]\n",
    "Saída: 5150.00"
   ]
  },
  {
   "cell_type": "code",
   "execution_count": null,
   "metadata": {},
   "outputs": [],
   "source": [
    "# SOLUÇÃO:\n",
    "\n",
    "def calculo_salario_com_comissao(lista):\n",
    "\t### Seu código aqui."
   ]
  }
 ],
 "metadata": {
  "language_info": {
   "name": "python"
  }
 },
 "nbformat": 4,
 "nbformat_minor": 2
}
