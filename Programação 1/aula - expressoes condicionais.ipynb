{
 "cells": [
  {
   "cell_type": "markdown",
   "metadata": {},
   "source": [
    "# Estrutura Básica\n",
    "A estrutura básica de uma expressão condicional em Python é a seguinte:"
   ]
  },
  {
   "cell_type": "code",
   "execution_count": null,
   "metadata": {},
   "outputs": [],
   "source": [
    "if condição:\n",
    "    # Código a ser executado se a condição for verdadeira\n",
    "else:\n",
    "    # Código a ser executado se a condição for falsa\n"
   ]
  },
  {
   "cell_type": "markdown",
   "metadata": {},
   "source": [
    "Aqui, condição é uma expressão que pode ser avaliada como True ou False. Se a condição for True, o bloco de código dentro do if será executado; caso contrário, o bloco de código dentro do else será executado.\n",
    "\n",
    "### Exemplo prático:\n",
    "- Suponha que queremos escrever um programa simples que verifica se um número é par ou ímpar:\n"
   ]
  },
  {
   "cell_type": "code",
   "execution_count": null,
   "metadata": {},
   "outputs": [],
   "source": [
    "numero = int(input(\"Digite um número: \"))\n",
    "if numero % 2 == 0:\n",
    "    print(f\"{numero} é um número par.\")\n",
    "else:\n",
    "    print(f\"{numero} é um número ímpar.\")\n"
   ]
  },
  {
   "cell_type": "markdown",
   "metadata": {},
   "source": [
    "## Condições Múltiplas com elif\n",
    "Às vezes, queremos verificar várias condições diferentes. Para isso, usamos elif (abreviação de \"else if\"):"
   ]
  },
  {
   "cell_type": "code",
   "execution_count": null,
   "metadata": {},
   "outputs": [],
   "source": [
    "if condição_1:\n",
    "    # Código se condição_1 for verdadeira\n",
    "elif condição_2:\n",
    "    # Código se condição_2 for verdadeira\n",
    "else:\n",
    "    # Código se nenhuma das condições acima for verdadeira\n"
   ]
  },
  {
   "cell_type": "code",
   "execution_count": null,
   "metadata": {},
   "outputs": [],
   "source": [
    "# Podemos expandir nosso exemplo anterior para incluir uma verificação adicional:\n",
    "\n",
    "numero = int(input(\"Digite um número: \"))\n",
    "\n",
    "if numero == 0:\n",
    "    print(\"Zero é um número especial!\")\n",
    "elif numero % 2 == 0:\n",
    "    print(f\"{numero} é um número par.\")\n",
    "else:\n",
    "    print(f\"{numero} é um número ímpar.\")\n"
   ]
  }
 ],
 "metadata": {
  "language_info": {
   "name": "python"
  }
 },
 "nbformat": 4,
 "nbformat_minor": 2
}
