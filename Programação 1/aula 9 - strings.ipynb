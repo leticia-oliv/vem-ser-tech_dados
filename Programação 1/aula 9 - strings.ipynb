{
 "cells": [
  {
   "cell_type": "markdown",
   "metadata": {},
   "source": [
    "# Strings em Programação\n",
    "\n",
    "## Definição\n",
    "\n",
    "Uma string é uma sequência de caracteres, como letras, números e símbolos, utilizada para representar texto em programação.\n",
    "\n",
    "### Declaração\n",
    "\n",
    "Em muitas linguagens de programação, uma string pode ser declarada usando aspas simples (`'`) ou aspas duplas (`\"`), como por exemplo:"
   ]
  },
  {
   "cell_type": "code",
   "execution_count": null,
   "metadata": {},
   "outputs": [],
   "source": [
    "nome = 'letícia'\n",
    "idade = '22'\n",
    "senha = '#123'"
   ]
  },
  {
   "cell_type": "markdown",
   "metadata": {},
   "source": [
    "## Operações com Strings:\n",
    "### Concatenação\n",
    "A concatenação de strings envolve a união de duas ou mais strings para criar uma única string. Assim como operações (+, -, *) Por exemplo:"
   ]
  },
  {
   "cell_type": "code",
   "execution_count": 3,
   "metadata": {},
   "outputs": [
    {
     "name": "stdout",
     "output_type": "stream",
     "text": [
      "leticia oliveira\n"
     ]
    }
   ],
   "source": [
    "primeiro_nome = input()\n",
    "sobrenome = input()\n",
    "nome_completo = primeiro_nome + \" \" + sobrenome\n",
    "print(nome_completo)"
   ]
  },
  {
   "cell_type": "code",
   "execution_count": null,
   "metadata": {},
   "outputs": [],
   "source": [
    "string1 = 'Olá'\n",
    "string2 = 'Mundo'\n",
    "resultado = string1 + string2\n",
    "print(resultado) # Na tela: 'OláMundo'"
   ]
  },
  {
   "cell_type": "markdown",
   "metadata": {},
   "source": [
    "### Comprimento\n",
    "O comprimento de uma string é o número de caracteres que ela contém. Pode ser obtido utilizando a função len()."
   ]
  },
  {
   "cell_type": "code",
   "execution_count": null,
   "metadata": {},
   "outputs": [],
   "source": [
    "comprimento = len(nome)"
   ]
  },
  {
   "cell_type": "markdown",
   "metadata": {},
   "source": [
    "### Acesso a Caracteres\n",
    "Os caracteres individuais de uma string podem ser acessados usando índices. Por exemplo, em Python:"
   ]
  },
  {
   "cell_type": "code",
   "execution_count": null,
   "metadata": {},
   "outputs": [],
   "source": [
    "primeira_letra = nome[0]  # Obtém o primeiro caractere"
   ]
  },
  {
   "cell_type": "code",
   "execution_count": null,
   "metadata": {},
   "outputs": [],
   "source": [
    "frase = \"Ada\"\n",
    "\n",
    "print(frase[0])\n",
    "print(frase[1])\n",
    "print(frase[2])"
   ]
  },
  {
   "cell_type": "code",
   "execution_count": null,
   "metadata": {},
   "outputs": [],
   "source": [
    "lista = ['A', 'B', 'C']\n",
    "\n",
    "lista[1] = 'D'\n",
    "\n",
    "lista"
   ]
  },
  {
   "cell_type": "markdown",
   "metadata": {},
   "source": [
    "### Transformando uma _string_ em lista\n",
    "_Strings_ são imutáveis, e isso pode nos dar um pouco de trabalho quando queremos fazer pequenas alterações, como forçar um caractere a ser maiúsculo ou acrescentar um caractere à _string_. Uma das formas de fazer envolve a \"soma cumulativa\" apresentada acima. Outra forma envolve transformar a nossa _string_ em lista, que é uma estrutura mutável. Execute o programa abaixo:"
   ]
  },
  {
   "cell_type": "code",
   "execution_count": 4,
   "metadata": {},
   "outputs": [
    {
     "name": "stdout",
     "output_type": "stream",
     "text": [
      "['L', 'e', 't', \"'\", 's', ' ', 'C', 'o', 'd', 'e', ' ', 'f', 'r', 'o', 'm', ' ', 'A', 'd', 'a', '!']\n"
     ]
    }
   ],
   "source": [
    "string = \"let's Code from Ada\"\n",
    "lista = list(string)\n",
    "\n",
    "lista[0] = 'L'\n",
    "lista.append('!')\n",
    "\n",
    "print(lista)"
   ]
  },
  {
   "cell_type": "markdown",
   "metadata": {},
   "source": [
    "## Manipulação de Strings\n",
    "Substrings\n",
    "Uma substring é uma parte de uma string. Pode ser obtida usando a notação de intervalo:"
   ]
  },
  {
   "cell_type": "code",
   "execution_count": null,
   "metadata": {},
   "outputs": [],
   "source": [
    "parte_da_string = nome[0:4]  # Obtém os primeiros quatro caracteres"
   ]
  }
 ],
 "metadata": {
  "kernelspec": {
   "display_name": "nome-do-ambiente",
   "language": "python",
   "name": "python3"
  },
  "language_info": {
   "codemirror_mode": {
    "name": "ipython",
    "version": 3
   },
   "file_extension": ".py",
   "mimetype": "text/x-python",
   "name": "python",
   "nbconvert_exporter": "python",
   "pygments_lexer": "ipython3",
   "version": "3.8.17"
  }
 },
 "nbformat": 4,
 "nbformat_minor": 2
}
