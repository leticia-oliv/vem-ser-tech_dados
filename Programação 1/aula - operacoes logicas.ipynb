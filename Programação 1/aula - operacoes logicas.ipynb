{
 "cells": [
  {
   "cell_type": "markdown",
   "metadata": {},
   "source": [
    "# Aula 3 - Operações lógicas\n",
    " \n",
    "## 1. Operações booleanas\n",
    "Quando estudamos variáveis, vimos que existem alguns tipos primitivos: _str_ (texto), _int_ (número inteiro), _float_ (número real) e _bool_ (lógico).\n",
    "Vimos diversas operações **aritméticas** também, como a soma, a divisão ou a potência, cujos resultados são _int_ ou _float_. \n",
    "Porém, podemos ter também operações cujo resultado é _bool_: são operações lógicas.\n",
    " \n",
    "## 1.1. Comparações\n",
    "Algumas das operações lógicas mais conhecidas são as comparações:\n"
   ]
  },
  {
   "cell_type": "code",
   "execution_count": null,
   "metadata": {},
   "outputs": [],
   "source": [
    "# Operadore basicos: > , < , == (bem diferente do '=')\n",
    "\n",
    "comparacao1 = (5 > 3) \n",
    "\n",
    "comparacao2 = (5 < 3)\n",
    "\n",
    "comparacao3 = (5 == 3)"
   ]
  }
 ],
 "metadata": {
  "language_info": {
   "name": "python"
  }
 },
 "nbformat": 4,
 "nbformat_minor": 2
}
