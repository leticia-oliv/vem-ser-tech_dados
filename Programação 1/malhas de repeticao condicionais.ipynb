{
 "cells": [
  {
   "cell_type": "markdown",
   "metadata": {},
   "source": [
    "# Aula 5 - Malhas de repetição condicionais\n",
    "\n",
    "### Malha de Repetição while:\n",
    "A malha de repetição while executa um bloco de código enquanto uma condição é verdadeira. Ela segue este formato:"
   ]
  },
  {
   "cell_type": "code",
   "execution_count": null,
   "metadata": {},
   "outputs": [],
   "source": [
    "while condição:\n",
    "    # código a ser repetido enquanto a condição for verdadeira\n"
   ]
  },
  {
   "cell_type": "code",
   "execution_count": null,
   "metadata": {},
   "outputs": [],
   "source": [
    "contador = 0\n",
    "while contador < 5:\n",
    "    print(contador)\n",
    "    contador += 1\n",
    "#Neste exemplo, o código dentro da malha while será executado enquanto a\n",
    "# condição contador < 5 for verdadeira. O contador é incrementado a cada iteração."
   ]
  },
  {
   "cell_type": "markdown",
   "metadata": {},
   "source": [
    "### Malha de Repetição for:\n",
    "A malha de repetição for é utilizada para iterar sobre uma sequência de elementos, como uma lista ou uma string. Ela segue este formato:"
   ]
  },
  {
   "cell_type": "code",
   "execution_count": null,
   "metadata": {},
   "outputs": [],
   "source": [
    "for elemento in sequência:\n",
    "    # código a ser executado para cada elemento na sequência"
   ]
  },
  {
   "cell_type": "code",
   "execution_count": null,
   "metadata": {},
   "outputs": [],
   "source": [
    "frutas = [\"maçã\", \"banana\", \"cereja\"]\n",
    "for fruta in frutas:\n",
    "    print(fruta)\n"
   ]
  },
  {
   "cell_type": "markdown",
   "metadata": {},
   "source": [
    "## Diferenças:\n",
    " - A malha while é usada quando você não sabe previamente quantas vezes o código será executado, dependendo de uma condição que pode mudar.\n",
    " - A malha for é usada quando você sabe quantas vezes o código precisa ser executado, baseando-se na quantidade de elementos na sequência.\n",
    " \n",
    "Ambas as malhas de repetição são muito úteis em diferentes situações e podem ser combinadas com condicionais (if, else, elif) para criar fluxos de controle mais complexos em seus programas Python. Elas ajudam a automatizar tarefas repetitivas e a lidar com uma grande quantidade de dados de maneira eficiente."
   ]
  }
 ],
 "metadata": {
  "language_info": {
   "name": "python"
  }
 },
 "nbformat": 4,
 "nbformat_minor": 2
}
