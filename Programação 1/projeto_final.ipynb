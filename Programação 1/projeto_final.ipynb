{
 "cells": [
  {
   "cell_type": "code",
   "execution_count": 7,
   "metadata": {},
   "outputs": [
    {
     "name": "stdout",
     "output_type": "stream",
     "text": [
      "Esta é a sua mensagem codificada:\n",
      "e123_s123_t123_a123_m123_o123_s123_ 123_n123_a123_ 123_n123_o123_s123_s123_a123_ 123_ú123_l123_t123_i123_m123_a123_ 123_a123_u123_l123_a123_ 123_d123_o123_ 123_m123_ó123_d123_u123_l123_o123_ 123_d123_e123_ 123_l123_ó123_g123_i123_c123_a123_ 123_d123_e123_ 123_p123_r123_o123_g123_r123_a123_m123_a123_ç123_ã123_o123_ 123_#123_1123_1123_0123_2123_\n",
      "\n",
      "A sua mensagem decodificada é: \n",
      "estamos na nossa última aula do módulo de lógica de programação #1102\n",
      "\n",
      "\n",
      "Opção inválida.\n",
      "Opção inválida.\n",
      "A sua mensagem decodificada é: \n",
      "e123_s123_t123_a123_m123_o123_s123_ 123_n123_a123_ 123_n123_o123_s123_s123_a123_ 123_ú123_l123_t123_i123_m123_a123_ 123_a123_u123_l123_a123_ 123_d123_o123_ 123_m123_ó123_d123_u123_l123_o123_ 123_d123_e123_ 123_l123_ó123_g123_i123_c123_a123_ 123_d123_e123_ 123_p123_r123_o123_g123_r123_a123_m123_a123_ç123_ã123_o123_ 123_#123_1123_1123_0123_2123_\n",
      "\n",
      "\n",
      "Opção inválida.\n",
      "Programa encerrado. \n"
     ]
    }
   ],
   "source": [
    "opcao = str(input('Digite 1 para codificar, 2 para decodificar ou 0 para sair: '))\n",
    "while opcao != 0:\n",
    "\n",
    "    #Codificação\n",
    "    if opcao == '1':\n",
    "        mensagem = str(input('Digite a mensagem que será codificada: '))\n",
    "        chave = str(input('Escreva a chave para a codificação: '))\n",
    "        print('Esta é a sua mensagem codificada:')\n",
    "        for i in mensagem:\n",
    "            print(i, end=chave) # Imprime a chave entre cada caractere da mensagem\n",
    "        print('\\n')\n",
    "\n",
    "    #Decodificação\n",
    "    elif opcao == '2':\n",
    "        mensagem_codificada = str(input('Digite a mensagem que será decodificada: '))\n",
    "        chave = str(input('Digite a chave para a decodificação: '))\n",
    "        print('A sua mensagem decodificada é: ')\n",
    "        mensagem_decodificada = ''\n",
    "        i = 0\n",
    "        while i < len(mensagem_codificada): # Inicia um loop a partir do comprimento da mensagem do usuário\n",
    "            if mensagem_codificada[i:i + len(chave)] == chave: # Verifica se a parte da mensagem na posição i corresponde à chave\n",
    "                i += len(chave) # Quando encontrada a chave, somamos i com o comprimento da chave para pular essa parte\n",
    "            else:\n",
    "                mensagem_decodificada += mensagem_codificada[i] # Quando não encontrada a chave, o caractere i é adicionado à mensagem_decodificada\n",
    "                i += 1 # Continuar o loop\n",
    "        print(mensagem_decodificada)\n",
    "        print('\\n')\n",
    "\n",
    "    #Encerramento\n",
    "    elif opcao == '0':\n",
    "        print('Programa encerrado. ')\n",
    "        break\n",
    "\n",
    "    #Opção Inválida\n",
    "    else:\n",
    "        print('Opção inválida.')\n",
    "    opcao = str(input('Digite 1 para codificar, 2 para decodificar ou 0 para sair. '))"
   ]
  }
 ],
 "metadata": {
  "kernelspec": {
   "display_name": "nome-do-ambiente",
   "language": "python",
   "name": "python3"
  },
  "language_info": {
   "codemirror_mode": {
    "name": "ipython",
    "version": 3
   },
   "file_extension": ".py",
   "mimetype": "text/x-python",
   "name": "python",
   "nbconvert_exporter": "python",
   "pygments_lexer": "ipython3",
   "version": "3.8.17"
  }
 },
 "nbformat": 4,
 "nbformat_minor": 2
}
