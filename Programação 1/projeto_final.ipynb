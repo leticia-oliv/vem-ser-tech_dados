{
 "cells": [
  {
   "cell_type": "code",
   "execution_count": 2,
   "metadata": {},
   "outputs": [
    {
     "name": "stdout",
     "output_type": "stream",
     "text": [
      "Esta é a sua mensagem codificada:\n",
      "t12e12s12t12e12\n",
      "\n",
      "A sua mensagem decodificada é: \n",
      "teste\n",
      "Programa encerrado. \n"
     ]
    }
   ],
   "source": [
    "opcao = str(input('Digite 1 para codificar, 2 para decodificar ou 0 para sair: '))\n",
    "while opcao != 0:\n",
    "\n",
    "    #Codificação\n",
    "    if opcao == '1':\n",
    "        mensagem = str(input('Digite a mensagem que será codificada: '))\n",
    "        chave = str(input('Escreva a chave para a codificação: '))\n",
    "        print('Esta é a sua mensagem codificada:')\n",
    "        for i in mensagem:\n",
    "            print(i, end=chave) # Imprime a chave entre cada caractere da mensagem\n",
    "        print('\\n')\n",
    "\n",
    "    #Decodificação\n",
    "    elif opcao == '2':\n",
    "        mensagem_codificada = str(input('Digite a mensagem que será decodificada: '))\n",
    "        chave = str(input('Digite a chave para a decodificação: '))\n",
    "        print('A sua mensagem decodificada é: ')\n",
    "        mensagem_decodificada = ''\n",
    "        i = 0\n",
    "        while i < len(mensagem_codificada):\n",
    "            if mensagem_codificada[i:i + len(chave)] == chave: # Verifica se a parte da mensagem na posição i corresponde à chave\n",
    "                i += len(chave) # Quando encontrada a chave, somamos i com o comprimento da chave para pular essa parte\n",
    "            else:\n",
    "                mensagem_decodificada += mensagem_codificada[i] # Quando não encontrada a chave, o caractere i é adicionado à mensagem_decodificada\n",
    "                i += 1 # Continuar o loop\n",
    "        print(mensagem_decodificada)\n",
    "\n",
    "    #Encerramento\n",
    "    elif opcao == '0':\n",
    "        print('Programa encerrado. ')\n",
    "        break\n",
    "\n",
    "    #Opção Inválida\n",
    "    else:\n",
    "        print('Opção inválida.')\n",
    "    opcao = str(input('Digite 1 para codificar, 2 para decodificar ou 0 para sair. '))"
   ]
  }
 ],
 "metadata": {
  "kernelspec": {
   "display_name": "nome-do-ambiente",
   "language": "python",
   "name": "python3"
  },
  "language_info": {
   "codemirror_mode": {
    "name": "ipython",
    "version": 3
   },
   "file_extension": ".py",
   "mimetype": "text/x-python",
   "name": "python",
   "nbconvert_exporter": "python",
   "pygments_lexer": "ipython3",
   "version": "3.8.17"
  }
 },
 "nbformat": 4,
 "nbformat_minor": 2
}
