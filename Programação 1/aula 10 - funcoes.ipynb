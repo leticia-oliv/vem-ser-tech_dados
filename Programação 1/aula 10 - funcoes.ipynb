{
 "cells": [
  {
   "cell_type": "markdown",
   "metadata": {},
   "source": [
    "# Introdução às Funções em Python\n",
    "\n",
    "Neste notebook, vamos explorar o conceito de funções em Python. As funções são blocos de código reutilizáveis que realizam uma tarefa específica. Elas ajudam a organizar e modularizar seu código.\n",
    "\n",
    "### Definindo uma Função\n",
    "Para definir uma função em Python, usamos a palavra-chave def, seguida pelo nome da função e parênteses ( ). Dentro dos parênteses, podemos declarar os argumentos que a função aceita."
   ]
  },
  {
   "cell_type": "code",
   "execution_count": null,
   "metadata": {},
   "outputs": [],
   "source": [
    "def saudacao(nome):\n",
    "    print(f'Olá, {nome}!')"
   ]
  },
  {
   "cell_type": "markdown",
   "metadata": {},
   "source": [
    "### Chamando uma Função\n",
    "Depois de definir uma função, podemos chamá-la usando seu nome e passando os argumentos necessários."
   ]
  },
  {
   "cell_type": "code",
   "execution_count": null,
   "metadata": {},
   "outputs": [],
   "source": [
    "saudacao('João')"
   ]
  },
  {
   "cell_type": "markdown",
   "metadata": {},
   "source": [
    "### Retornando Valores\n",
    "As funções podem retornar valores usando a palavra-chave return. Por exemplo:"
   ]
  },
  {
   "cell_type": "code",
   "execution_count": null,
   "metadata": {},
   "outputs": [],
   "source": [
    "def soma(a, b):\n",
    "    return a + b"
   ]
  },
  {
   "cell_type": "code",
   "execution_count": null,
   "metadata": {},
   "outputs": [],
   "source": [
    "resultado = soma(3, 4)\n",
    "print(resultado)  # Isso imprimirá 7"
   ]
  },
  {
   "cell_type": "markdown",
   "metadata": {},
   "source": [
    "### Argumentos Padrão\n",
    "Podemos definir valores padrão para os argumentos de uma função. Esses valores serão usados se nenhum valor for passado durante a chamada da função."
   ]
  },
  {
   "cell_type": "code",
   "execution_count": null,
   "metadata": {},
   "outputs": [],
   "source": [
    "def saudacao(nome='Visitante'):\n",
    "    print(f'Olá, {nome}!')"
   ]
  }
 ],
 "metadata": {
  "language_info": {
   "name": "python"
  }
 },
 "nbformat": 4,
 "nbformat_minor": 2
}
