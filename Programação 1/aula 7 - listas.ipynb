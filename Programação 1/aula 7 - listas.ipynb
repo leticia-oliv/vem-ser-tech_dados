{
 "cells": [
  {
   "cell_type": "markdown",
   "metadata": {},
   "source": [
    "# Listas em Python\n",
    "Uma lista em Python é uma coleção de elementos que podem ser de diferentes tipos de dados, como inteiros, strings, booleanos, etc. Elas são mutáveis, o que significa que os elementos podem ser alterados após a criação da lista.\n",
    "\n",
    "Exemplo de criação de uma lista:"
   ]
  },
  {
   "cell_type": "code",
   "execution_count": null,
   "metadata": {},
   "outputs": [],
   "source": [
    "# Criando uma lista de números inteiros\n",
    "numeros = [1, 2, 3, 4, 5]\n",
    "\n",
    "# Criando uma lista de strings\n",
    "frutas = ['maçã', 'banana', 'laranja']"
   ]
  },
  {
   "cell_type": "markdown",
   "metadata": {},
   "source": [
    "## Quebrando Listas\n",
    "Você pode acessar elementos individuais de uma lista utilizando índices. Os índices começam em 0 para o primeiro elemento, 1 para o segundo, e assim por diante. Também é possível acessar os elementos do final para o começo utilizando índices negativos.\n",
    "\n",
    "Exemplo de acesso a elementos:"
   ]
  },
  {
   "cell_type": "code",
   "execution_count": null,
   "metadata": {},
   "outputs": [],
   "source": [
    "# Acessando o primeiro elemento\n",
    "primeiro_numero = numeros[0]\n",
    "\n",
    "# Acessando o segundo elemento\n",
    "segunda_fruta = frutas[1]\n",
    "\n",
    "# Acessando o último elemento usando índice negativo\n",
    "ultima_fruta = frutas[-1]"
   ]
  },
  {
   "cell_type": "markdown",
   "metadata": {},
   "source": [
    "## Percorrendo Listas\n",
    "É comum percorrer uma lista para realizar operações em cada elemento. Isso pode ser feito usando loops como for ou while.\n",
    "\n",
    "Exemplo de percorrer uma lista com for:"
   ]
  },
  {
   "cell_type": "code",
   "execution_count": null,
   "metadata": {},
   "outputs": [],
   "source": [
    "for fruta in frutas:\n",
    "    print(fruta)"
   ]
  },
  {
   "cell_type": "markdown",
   "metadata": {},
   "source": [
    "## Testando a Existência de Valores\n",
    "Você pode verificar se um valor está presente em uma lista usando o operador in.\n",
    "\n",
    "Exemplo de verificação de existência:"
   ]
  },
  {
   "cell_type": "code",
   "execution_count": null,
   "metadata": {},
   "outputs": [],
   "source": [
    "if 'banana' in frutas:\n",
    "    print('Banana está na lista de frutas!')\n"
   ]
  },
  {
   "cell_type": "code",
   "execution_count": 2,
   "metadata": {},
   "outputs": [
    {
     "name": "stdout",
     "output_type": "stream",
     "text": [
      "HTML: False\n",
      "Java: True\n"
     ]
    }
   ],
   "source": [
    "linguagens = ['Python', 'JavaScript', 'C#', 'Java']\n",
    " \n",
    "existe_html = 'HTML' in linguagens\n",
    "existe_java = 'Java' in linguagens\n",
    " \n",
    "print('HTML:', existe_html) # HTML: False\n",
    "print('Java:', existe_java) # Java: True"
   ]
  }
 ],
 "metadata": {
  "kernelspec": {
   "display_name": "nome-do-ambiente",
   "language": "python",
   "name": "python3"
  },
  "language_info": {
   "codemirror_mode": {
    "name": "ipython",
    "version": 3
   },
   "file_extension": ".py",
   "mimetype": "text/x-python",
   "name": "python",
   "nbconvert_exporter": "python",
   "pygments_lexer": "ipython3",
   "version": "3.8.17"
  }
 },
 "nbformat": 4,
 "nbformat_minor": 2
}
