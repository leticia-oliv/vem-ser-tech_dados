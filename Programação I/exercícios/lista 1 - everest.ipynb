{
 "cells": [
  {
   "cell_type": "markdown",
   "metadata": {},
   "source": [
    "## 1. Operadores\n",
    "Pedrinho trabalha com vendas de carro, mensalmente ele recebe um salário fixo e comissões baseadas em suas vendas. As comissões são as seguintes\n",
    "\n",
    "Comissões:\n",
    "\n",
    "5% sobre o valor total vendido no mês\n",
    "valor fixo por cada carro vendido\n",
    "Faça uma função que recebe uma lista com: número de carros por ele vendidos no mês, o valor total de suas vendas no mês, seu salário fixo, valor fixo que ele recebe por carro vendido. Calcule e retorne qual o salário dele (salário fixo mais comissões). Arredondar o valor de retorno para duas casas decimais."
   ]
  },
  {
   "cell_type": "code",
   "execution_count": null,
   "metadata": {},
   "outputs": [],
   "source": [
    "#Ex:\n",
    "Entrada: [3, 20000.00, 2000.00, 250.00]\n",
    "Saída: 3750.00\n",
    "\n",
    "#Ex:\n",
    "Entrada: [4,25000.00, 3500.00, 100.00]\n",
    "Saída: 5150.00"
   ]
  },
  {
   "cell_type": "code",
   "execution_count": 1,
   "metadata": {},
   "outputs": [],
   "source": [
    "# SOLUÇÃO:\n",
    "\n",
    "def calculo_salario_com_comissao(lista):\n",
    "\t # Extrair os elementos da lista\n",
    "    num_carros, valor_vendas, salario_fixo, valor_fixo_por_carro = lista\n",
    "    \n",
    "    # Calcular a comissão sobre o valor total das vendas\n",
    "    comissao_por_vendas = 0.05 * valor_vendas\n",
    "    \n",
    "    # Calcular a comissão por carro vendido\n",
    "    comissao_por_carro = num_carros * valor_fixo_por_carro\n",
    "    \n",
    "    # Calcular o salário total\n",
    "    salario_total = salario_fixo + comissao_por_vendas + comissao_por_carro\n",
    "    \n",
    "    # Arredondar o resultado para duas casas decimais\n",
    "    salario_total = round(salario_total, 2)\n",
    "    \n",
    "    return salario_total"
   ]
  },
  {
   "cell_type": "code",
   "execution_count": 2,
   "metadata": {},
   "outputs": [
    {
     "name": "stdout",
     "output_type": "stream",
     "text": [
      "3750.0\n",
      "5150.0\n"
     ]
    }
   ],
   "source": [
    "# Exemplo 1\n",
    "entrada1 = [3, 20000.00, 2000.00, 250.00]\n",
    "saida1 = calculo_salario_com_comissao(entrada1)\n",
    "print(saida1)  # Saída esperada: 3750.00\n",
    "\n",
    "# Exemplo 2\n",
    "entrada2 = [4, 25000.00, 3500.00, 100.00]\n",
    "saida2 = calculo_salario_com_comissao(entrada2)\n",
    "print(saida2)  # Saída esperada: 5150.00"
   ]
  },
  {
   "cell_type": "markdown",
   "metadata": {},
   "source": [
    "\n",
    "# 2. Condicionais e Conversão\n",
    "Em uma danceteria o preço da entrada sofre variações de acordo com o dia da semana. Nas Segundas, Terças e Quintas, o desconto oferecido é de 25% em cima do preço normal de entrada. Nos dias de músicas ao vivo, o preço da entrada tem um acréssimo de 15% em relação ao preço normal da entrada. Faça uma função que recebe o dia da semana, o preço normal da entrada e se é dia de música ao vivo (“sim” ou “não”).\n",
    "\n",
    "Os valores de entrada serão passados em uma lista seguindo a ordem supracitada. Calcule e retorne o preço final que deverá ser pago pela entrada considerando um arredondamento de três casas para o valor final da entrada.\n",
    "\n",
    "Obs: aplicar primeiro o desconto dos dias com desconto e depois o acrescimo de música ao vivo, quando os dois descontos forem aplicados.\n",
    "\n",
    "A entrada dos dias da semana será considerando um valor decimal, conforme os dados a seguir:\n",
    "\n",
    "- 1.0 - segunda-feira\n",
    "- 2.0 - terça-feira\n",
    "- 3.0 - quarta-feira\n",
    "- 4.0 - quinta-feira\n",
    "- 5.0 - sexta-feira\n",
    "- 6.0 - sábado\n",
    "- 7.0 - domingo\n",
    "\n",
    "Para os dados referente a música ao vivo serão considerados: 1.0 - sim e 2.0 - não."
   ]
  },
  {
   "cell_type": "code",
   "execution_count": null,
   "metadata": {},
   "outputs": [],
   "source": [
    "#Ex:\n",
    "Entrada: [3.0, 25.00, 2.0]\n",
    "Saída: 25.000\n",
    "\n",
    "#Ex:\n",
    "Entrada: [4.0, 50.00, 1.0]\n",
    "Saída: 43.125"
   ]
  },
  {
   "cell_type": "code",
   "execution_count": 3,
   "metadata": {},
   "outputs": [],
   "source": [
    "def calcula_valor_entrada(lista):\n",
    "    # Extrair os elementos da lista\n",
    "    dia_semana, preco_normal, musica_ao_vivo = lista\n",
    "    \n",
    "    # Aplicar desconto nos dias com desconto\n",
    "    if dia_semana in [1.0, 2.0, 4.0]:\n",
    "        preco_normal *= 0.75  # 25% de desconto\n",
    "    \n",
    "    # Aplicar acréscimo se houver música ao vivo\n",
    "    if musica_ao_vivo == 1.0:\n",
    "        preco_normal *= 1.15  # 15% de acréscimo\n",
    "    \n",
    "    # Arredondar o resultado para três casas decimais\n",
    "    preco_final = round(preco_normal, 3)\n",
    "    \n",
    "    return preco_final\n"
   ]
  },
  {
   "cell_type": "code",
   "execution_count": 4,
   "metadata": {},
   "outputs": [
    {
     "name": "stdout",
     "output_type": "stream",
     "text": [
      "25.0\n",
      "43.125\n"
     ]
    }
   ],
   "source": [
    "# Exemplo 1\n",
    "entrada1 = [3.0, 25.00, 2.0]\n",
    "saida1 = calcula_valor_entrada(entrada1)\n",
    "print(saida1)  # Saída esperada: 25.000\n",
    "\n",
    "# Exemplo 2\n",
    "entrada2 = [4.0, 50.00, 1.0]\n",
    "saida2 = calcula_valor_entrada(entrada2)\n",
    "print(saida2)  # Saída esperada: 43.125"
   ]
  },
  {
   "cell_type": "markdown",
   "metadata": {},
   "source": [
    "# 3. Operadores\n",
    "Maria está olhando o mercado de automóveis para comprar um carro novo e identificou que o preço final do veículo tem um percentual relacionado ao distribuidor e também um percentual de impostos. Ela deseja, então, identificar qual veículo possui os menores percentuais de imposto e também do distribuidor para fazer a escolha de seu carro novo.\n",
    "\n",
    "Para ajudar Maria com a sua busca, crie uma função que receba uma lista com o preço de final de fábrica, o valor do custo com o distribuidor e o valor dos impostos. Ao final a função deve retornar uma lista com o percentual do custo do distribuidor e o percentual do custo com os impostos, seguindo essa ordem. Realizar arredondamento para duas casas decimais em relação aos dados de retorno."
   ]
  },
  {
   "cell_type": "code",
   "execution_count": null,
   "metadata": {},
   "outputs": [],
   "source": [
    "#Ex:\n",
    "Entrada: [100000.00, 12000.00, 20000.00]\n",
    "Saída: [12.00, 20.00]\n",
    "\n",
    "#Ex:\n",
    "Entrada: [115500.00,25000.00, 32500.00]\n",
    "Saída: [21.64, 28.14]"
   ]
  },
  {
   "cell_type": "code",
   "execution_count": 5,
   "metadata": {},
   "outputs": [],
   "source": [
    "def calcula_custos_carro(lista):\n",
    "    preco_fabrica, custo_distribuidor, impostos = lista\n",
    "    \n",
    "    percentual_distribuidor = (custo_distribuidor / preco_fabrica) * 100\n",
    "    percentual_impostos = (impostos / preco_fabrica) * 100\n",
    "    \n",
    "    return [round(percentual_distribuidor, 2), round(percentual_impostos, 2)]"
   ]
  },
  {
   "cell_type": "code",
   "execution_count": 6,
   "metadata": {},
   "outputs": [
    {
     "name": "stdout",
     "output_type": "stream",
     "text": [
      "[12.0, 20.0]\n",
      "[21.65, 28.14]\n"
     ]
    }
   ],
   "source": [
    "resultado1 = calcula_custos_carro([100000.00, 12000.00, 20000.00])\n",
    "print(resultado1)\n",
    "resultado2 = calcula_custos_carro([115500.00, 25000.00, 32500.00])\n",
    "print(resultado2)\n"
   ]
  },
  {
   "cell_type": "markdown",
   "metadata": {},
   "source": [
    "# 4. Condicionais\n",
    "Maria tem uma frutaria e está com uma promoção para quem comprar mais de 10 frutas (do mesmo item). A tabela de preços das frutas com preços especiais são:\n",
    "\n",
    "Comprando qualquer fruta da promoção e levando acima de 10 frutas o preço da unidade fica em 1.25 cada, caso a pessoa leve uma quantidade inferior ou igual a 10 o preço individual da fruta fica em 1.45.\n",
    "\n",
    "Faça uma função que recebe a quantidade de frutas que o cliente está levando e calcule o valor final a ser pago. Arredondar o valor final da compra para 2 casas decimais."
   ]
  },
  {
   "cell_type": "code",
   "execution_count": null,
   "metadata": {},
   "outputs": [],
   "source": [
    "# Ex:\n",
    "Entrada: 2\n",
    "Saída: 2.90\n",
    "\n",
    "# Ex:\n",
    "Entrada: 12\n",
    "Saída: 15.00"
   ]
  },
  {
   "cell_type": "code",
   "execution_count": 7,
   "metadata": {},
   "outputs": [],
   "source": [
    "def custo_compra(qtd_frutas):\n",
    "    if qtd_frutas > 10:\n",
    "        preco_unitario = 1.25\n",
    "    else:\n",
    "        preco_unitario = 1.45\n",
    "\n",
    "    valor_final = qtd_frutas * preco_unitario\n",
    "    return round(valor_final, 2)"
   ]
  },
  {
   "cell_type": "code",
   "execution_count": 8,
   "metadata": {},
   "outputs": [
    {
     "name": "stdout",
     "output_type": "stream",
     "text": [
      "2.9\n",
      "15.0\n"
     ]
    }
   ],
   "source": [
    "# Exemplo 1\n",
    "resultado1 = custo_compra(2)\n",
    "print(resultado1)  # Saída: 2.90\n",
    "\n",
    "# Exemplo 2\n",
    "resultado2 = custo_compra(12)\n",
    "print(resultado2)  # Saída: 15.00"
   ]
  }
 ],
 "metadata": {
  "kernelspec": {
   "display_name": "nome-do-ambiente",
   "language": "python",
   "name": "python3"
  },
  "language_info": {
   "codemirror_mode": {
    "name": "ipython",
    "version": 3
   },
   "file_extension": ".py",
   "mimetype": "text/x-python",
   "name": "python",
   "nbconvert_exporter": "python",
   "pygments_lexer": "ipython3",
   "version": "3.8.17"
  }
 },
 "nbformat": 4,
 "nbformat_minor": 2
}
