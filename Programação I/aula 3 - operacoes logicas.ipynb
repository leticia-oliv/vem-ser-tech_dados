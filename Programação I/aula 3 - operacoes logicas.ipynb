{
 "cells": [
  {
   "cell_type": "markdown",
   "metadata": {},
   "source": [
    "# Operações Lógicas:\n",
    "\n",
    "Na aula 3, estudamos as operações lógicas, que são aquelas em que o resultado é do tipo booleano (_bool_). Ao contrário das operações aritméticas, que resultam em números inteiros ou reais, as operações lógicas envolvem comparações.\n",
    "\n",
    "As operações mais comuns são as comparações, que utilizam os operadores \">,\" \"<,\" e \"==\". Exemplificamos com os seguintes casos:\n",
    "\n",
    "- A comparação 1 verifica se 5 é maior que 3, o que resulta em verdadeiro (True).\n",
    "- A comparação 2 avalia se 5 é menor que 3, resultando em falso (False).\n",
    "- A comparação 3 verifica se 5 é igual a 3, o que também resulta em falso (False).\n",
    "\n",
    "Ao executar esse código, a saída exibida na tela será:\n",
    "\n",
    "True\n",
    "False\n",
    "False\n",
    "\n",
    "Além disso, é importante notar que o tipo de dado retornado é booleano (_bool_).\n"
   ]
  },
  {
   "cell_type": "code",
   "execution_count": null,
   "metadata": {},
   "outputs": [],
   "source": [
    "comparacao1 = (5 > 3) \n",
    "\n",
    "comparacao2 = (5 < 3)\n",
    "\n",
    "comparacao3 = (5 == 3)"
   ]
  },
  {
   "cell_type": "markdown",
   "metadata": {},
   "source": [
    "A aula também abordou a negação lógica, uma operação crucial na lógica de programação. Essa operação inverte o resultado de uma expressão lógica. Se a expressão original for avaliada como verdadeira (True), a negação resultará em falso (False), e vice-versa.\n",
    "\n",
    "Em Python, a negação é representada pela palavra-chave not. Para ilustrar isso, modificamos os exemplos anteriores:"
   ]
  },
  {
   "cell_type": "code",
   "execution_count": 1,
   "metadata": {},
   "outputs": [],
   "source": [
    "comparacao1 = not (5 > 3) \n",
    "\n",
    "comparacao2 = not (5 < 3)\n",
    "\n",
    "comparacao3 = not (5 == 3)"
   ]
  },
  {
   "cell_type": "markdown",
   "metadata": {},
   "source": [
    "Na primeira comparação, usamos a negação para verificar se 5 não é maior que 3, o que resulta em falso (False).\n",
    "Na segunda comparação, negamos a expressão que verifica se 5 não é menor que 3, o que também resulta em falso (False).\n",
    "Ao executar esse código, a saída na tela será:\n",
    "\n",
    "False\n",
    "False"
   ]
  },
  {
   "cell_type": "markdown",
   "metadata": {},
   "source": [
    "Resumo:\n",
    "\n",
    "O operador lógico **not** inverte o valor de uma expressão lógica. Podemos visualizar o funcionamento deste operador utilizando uma tabela-verdade:\n",
    "\n",
    "| A     | not A     |\n",
    "|-------|-----------|\n",
    "| True  | False     |\n",
    "| False | True      |\n",
    "\n",
    "Além disso, foi introduzida a conjunção lógica, representada em Python pela palavra-chave **and**. Essa operação é utilizada para testar se duas ou mais condições são verdadeiras. Por exemplo, em um critério de aprovação na escola que exige uma média acima de 6.0 **e** uma presença superior a 75%, o aluno precisa satisfazer ambos os critérios para ser aprovado.\n",
    "\n",
    "O código a seguir ilustra um teste de aprovação:"
   ]
  },
  {
   "cell_type": "code",
   "execution_count": 3,
   "metadata": {},
   "outputs": [
    {
     "name": "stdout",
     "output_type": "stream",
     "text": [
      "O aluno foi aprovado? True\n"
     ]
    }
   ],
   "source": [
    "media = float(input('Digite a média do aluno: '))\n",
    "presenca = float(input('Digite as presenças do aluno: '))\n",
    "\n",
    "aprovado = media >= 6.0 and presenca >= 0.75\n",
    "print('O aluno foi aprovado?', aprovado)"
   ]
  }
 ],
 "metadata": {
  "kernelspec": {
   "display_name": "nome-do-ambiente",
   "language": "python",
   "name": "python3"
  },
  "language_info": {
   "codemirror_mode": {
    "name": "ipython",
    "version": 3
   },
   "file_extension": ".py",
   "mimetype": "text/x-python",
   "name": "python",
   "nbconvert_exporter": "python",
   "pygments_lexer": "ipython3",
   "version": "3.8.17"
  }
 },
 "nbformat": 4,
 "nbformat_minor": 2
}
